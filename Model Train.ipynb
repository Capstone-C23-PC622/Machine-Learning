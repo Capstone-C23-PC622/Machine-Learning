{
  "nbformat": 4,
  "nbformat_minor": 0,
  "metadata": {
    "colab": {
      "provenance": []
    },
    "kernelspec": {
      "name": "python3",
      "display_name": "Python 3"
    },
    "language_info": {
      "name": "python"
    }
  },
  "cells": [
    {
      "cell_type": "code",
      "execution_count": 279,
      "metadata": {
        "id": "ou83_8pSYW7O"
      },
      "outputs": [],
      "source": [
        "import pandas as pd\n",
        "import numpy as np\n",
        "import tensorflow as tf\n",
        "import matplotlib.pyplot as plt\n",
        "import seaborn as sns\n",
        "#import Augmentor\n",
        "from tensorflow import keras\n",
        "from tensorflow.keras import regularizers\n",
        "from keras.layers import Input, Dense\n",
        "from keras.models import Model, Sequential\n",
        "from keras.utils import to_categorical\n",
        "from sklearn.model_selection import train_test_split\n",
        "from sklearn.preprocessing import LabelEncoder\n",
        "from sklearn.metrics import confusion_matrix\n",
        "from imblearn.over_sampling import RandomOverSampler\n"
      ]
    },
    {
      "cell_type": "code",
      "source": [
        "job = pd.read_csv('/content/job.csv')\n",
        "jobseeker = pd.read_csv('/content/jobseeker.csv')\n"
      ],
      "metadata": {
        "id": "Gd938bJNYdPa"
      },
      "execution_count": 280,
      "outputs": []
    },
    {
      "cell_type": "markdown",
      "source": [
        "**MODEL TRAINING**"
      ],
      "metadata": {
        "id": "XPjkkqizCP1_"
      }
    },
    {
      "cell_type": "code",
      "source": [
        "np.random.seed(0) \n",
        "\n",
        "num_samples = 102  \n",
        "\n",
        "# Generate random labels\n",
        "labels = np.random.randint(2, size=num_samples) \n",
        "\n",
        "print(labels)"
      ],
      "metadata": {
        "colab": {
          "base_uri": "https://localhost:8080/"
        },
        "id": "Sn7ILX5vY_Xu",
        "outputId": "70efa502-38e8-435f-a707-7eb19a4cf4d8"
      },
      "execution_count": 281,
      "outputs": [
        {
          "output_type": "stream",
          "name": "stdout",
          "text": [
            "[0 1 1 0 1 1 1 1 1 1 1 0 0 1 0 0 0 0 0 1 0 1 1 0 0 1 1 1 1 0 1 0 1 0 1 1 0\n",
            " 1 1 0 0 1 0 1 1 1 1 1 0 1 0 1 1 1 1 0 1 0 0 1 1 0 1 0 1 0 0 0 0 0 1 1 0 0\n",
            " 0 1 1 0 1 0 0 1 0 1 1 1 1 1 1 0 1 1 0 0 1 0 0 1 1 0 1 0]\n"
          ]
        }
      ]
    },
    {
      "cell_type": "code",
      "source": [
        "# mengconvert label ke DataFrame\n",
        "labels_df = pd.DataFrame(labels, columns=['label'])"
      ],
      "metadata": {
        "id": "RB1evKVTazr3"
      },
      "execution_count": 282,
      "outputs": []
    },
    {
      "cell_type": "code",
      "source": [
        "# menyimpan DataFrame ke file CSV \n",
        "labels_df.to_csv('labels.csv', index=False)"
      ],
      "metadata": {
        "id": "Vczt4DEya5Fx"
      },
      "execution_count": 283,
      "outputs": []
    },
    {
      "cell_type": "code",
      "source": [
        "# Membuat data contoh\n",
        "train_data = tf.random.normal(shape=(100, 10))  # Data pelatihan dengan bentuk (100, 10)\n",
        "train_labels = tf.random.uniform(shape=(100,), minval=0, maxval=5, dtype=tf.int32)  # Label pelatihan dengan bentuk (100,)\n",
        "\n",
        "# Menghitung jumlah kelas\n",
        "num_classes = len(tf.unique(train_labels)[0])\n",
        "\n",
        "# Mengubah label menjadi one-hot encoding\n",
        "train_labels = to_categorical(train_labels, num_classes=num_classes)"
      ],
      "metadata": {
        "id": "u1SnWr5DcjXz"
      },
      "execution_count": 284,
      "outputs": []
    },
    {
      "cell_type": "code",
      "source": [
        "# Membuat model dan melakukan pelatihan\n",
        "model = tf.keras.Sequential([\n",
        "    tf.keras.layers.Dense(32, activation='relu', input_shape=(10,)),\n",
        "    tf.keras.layers.Dense(64, activation='relu'),\n",
        "    tf.keras.layers.Dense(num_classes, activation='softmax')\n",
        "])"
      ],
      "metadata": {
        "id": "1ooJSS7ocxm4"
      },
      "execution_count": 285,
      "outputs": []
    },
    {
      "cell_type": "code",
      "source": [
        "#pelatihan model\n",
        "model.compile(optimizer='adam', loss='categorical_crossentropy', metrics=['accuracy'])\n",
        "model.fit(train_data, train_labels, epochs=10, batch_size=32)"
      ],
      "metadata": {
        "colab": {
          "base_uri": "https://localhost:8080/"
        },
        "id": "YQGfiJeHcyz6",
        "outputId": "a9d64b4e-f454-45f1-f104-0bc44f49ca71"
      },
      "execution_count": 286,
      "outputs": [
        {
          "output_type": "stream",
          "name": "stdout",
          "text": [
            "Epoch 1/10\n",
            "4/4 [==============================] - 1s 6ms/step - loss: 1.6400 - accuracy: 0.1700\n",
            "Epoch 2/10\n",
            "4/4 [==============================] - 0s 5ms/step - loss: 1.6037 - accuracy: 0.1900\n",
            "Epoch 3/10\n",
            "4/4 [==============================] - 0s 5ms/step - loss: 1.5798 - accuracy: 0.2200\n",
            "Epoch 4/10\n",
            "4/4 [==============================] - 0s 7ms/step - loss: 1.5591 - accuracy: 0.2900\n",
            "Epoch 5/10\n",
            "4/4 [==============================] - 0s 7ms/step - loss: 1.5391 - accuracy: 0.3100\n",
            "Epoch 6/10\n",
            "4/4 [==============================] - 0s 7ms/step - loss: 1.5238 - accuracy: 0.3500\n",
            "Epoch 7/10\n",
            "4/4 [==============================] - 0s 6ms/step - loss: 1.5086 - accuracy: 0.4100\n",
            "Epoch 8/10\n",
            "4/4 [==============================] - 0s 7ms/step - loss: 1.4944 - accuracy: 0.4200\n",
            "Epoch 9/10\n",
            "4/4 [==============================] - 0s 7ms/step - loss: 1.4808 - accuracy: 0.4400\n",
            "Epoch 10/10\n",
            "4/4 [==============================] - 0s 5ms/step - loss: 1.4677 - accuracy: 0.4600\n"
          ]
        },
        {
          "output_type": "execute_result",
          "data": {
            "text/plain": [
              "<keras.callbacks.History at 0x7ff37b6e4340>"
            ]
          },
          "metadata": {},
          "execution_count": 286
        }
      ]
    },
    {
      "cell_type": "code",
      "source": [
        "# Split data job dan jobseeker \n",
        "train_data_job, test_data_job, train_labels_job, test_labels_job = train_test_split(job, labels, test_size=0.2, random_state=42)\n",
        "train_data_jobseeker, test_data_jobseeker, train_labels_jobseeker, test_labels_jobseeker = train_test_split(jobseeker, labels, test_size=0.2, random_state=42)\n"
      ],
      "metadata": {
        "id": "xHV0zEbXehMl"
      },
      "execution_count": 287,
      "outputs": []
    },
    {
      "cell_type": "code",
      "source": [
        "# Pelatihan model\n",
        "model.compile(optimizer='adam', loss='categorical_crossentropy', metrics=['accuracy'])"
      ],
      "metadata": {
        "id": "9hYHwI3nfrW5"
      },
      "execution_count": 288,
      "outputs": []
    },
    {
      "cell_type": "code",
      "source": [
        "#MASIH BELUM BISA EVALUASI\n",
        "# Evaluasi model dengan data uji dan label uji\n",
        "#test_loss, test_accuracy = model.evaluate([test_data_job, test_data_jobseeker], test_labels_job, verbose=2)\n"
      ],
      "metadata": {
        "id": "Sl1MvX4Pf4iV"
      },
      "execution_count": 289,
      "outputs": []
    },
    {
      "cell_type": "code",
      "source": [
        "# Apply one-hot encoding to all categorical columns\n",
        "job = pd.get_dummies(job)\n",
        "jobseeker = pd.get_dummies(jobseeker)"
      ],
      "metadata": {
        "id": "HAfRwIaUYhu8"
      },
      "execution_count": 290,
      "outputs": []
    },
    {
      "cell_type": "code",
      "source": [
        "# Convert the data to NumPy arrays\n",
        "train_data_job = job.values.astype('float32')\n",
        "train_data_jobseeker = jobseeker.values.astype('float32')"
      ],
      "metadata": {
        "id": "jFWVkTJ3YmVO"
      },
      "execution_count": 291,
      "outputs": []
    },
    {
      "cell_type": "code",
      "source": [
        "# Mengkonversi dataframe ke tensor TensorFlow\n",
        "tensor_data = tf.data.Dataset.from_tensor_slices(dict(job))\n",
        "tensor_data = tf.data.Dataset.from_tensor_slices(dict(jobseeker))"
      ],
      "metadata": {
        "id": "yPlkQDdKYyvt"
      },
      "execution_count": 292,
      "outputs": []
    },
    {
      "cell_type": "code",
      "source": [
        "# Contoh data pelatihan dan label\n",
        "train_data = np.array([\n",
        "    [1, 2, 3],\n",
        "    [4, 5, 6],\n",
        "    [7, 8, 9]\n",
        "])\n",
        "\n",
        "train_labels = np.array([0, 1, 1])"
      ],
      "metadata": {
        "id": "wdDqJflpY2PH"
      },
      "execution_count": 293,
      "outputs": []
    },
    {
      "cell_type": "code",
      "source": [
        "test_data = np.array([[1, 2, 3], [4, 5, 6]])"
      ],
      "metadata": {
        "id": "SOXSlJU397kc"
      },
      "execution_count": 294,
      "outputs": []
    },
    {
      "cell_type": "code",
      "source": [
        "test_labels = np.array([1, 2])"
      ],
      "metadata": {
        "id": "gRw9r5XW-asL"
      },
      "execution_count": 295,
      "outputs": []
    },
    {
      "cell_type": "code",
      "source": [
        "print('Train Data Shape:', train_data.shape)\n",
        "print('Test Data Shape:', test_data.shape)\n",
        "print('Train Labels Shape:', train_labels.shape)\n",
        "print('Test Labels Shape:', test_labels.shape)"
      ],
      "metadata": {
        "colab": {
          "base_uri": "https://localhost:8080/"
        },
        "id": "B0pd2O6A95wI",
        "outputId": "a2626bf5-5fc8-495b-b897-6252a7d89001"
      },
      "execution_count": 296,
      "outputs": [
        {
          "output_type": "stream",
          "name": "stdout",
          "text": [
            "Train Data Shape: (3, 3)\n",
            "Test Data Shape: (2, 3)\n",
            "Train Labels Shape: (3,)\n",
            "Test Labels Shape: (2,)\n"
          ]
        }
      ]
    },
    {
      "cell_type": "code",
      "source": [
        "# Define the input shapes based on your data\n",
        "input_dim_job = 50\n",
        "input_dim_jobseeker = 50\n",
        "#num_classes = 2\n",
        "\n",
        "# Define the inputs\n",
        "input_job = Input(shape=(input_dim_job,))\n",
        "input_jobseeker = Input(shape=(input_dim_jobseeker,))\n",
        "\n",
        "# Define the layers for job data\n",
        "x = Dense(32, activation='relu')(input_job)\n",
        "x = Dense(64, activation='relu')(x)\n",
        "output_job = Dense(num_classes, activation='softmax')(x)\n",
        "\n",
        "# Define the layers for jobseeker data\n",
        "y = Dense(32, activation='relu')(input_jobseeker)\n",
        "y = Dense(64, activation='relu')(y)\n",
        "output_jobseeker = Dense(num_classes, activation='softmax')(y)\n",
        "\n",
        "# Combine the output\n",
        "combined = keras.layers.concatenate([output_job, output_jobseeker])\n",
        "\n",
        "# Define the model\n",
        "model = Model(inputs=[input_job, input_jobseeker], outputs=combined)\n",
        "\n",
        "model.summary()\n"
      ],
      "metadata": {
        "colab": {
          "base_uri": "https://localhost:8080/"
        },
        "id": "asXoxJVtd9dI",
        "outputId": "e04024e7-6b4c-4e27-e4d4-d95feb22effa"
      },
      "execution_count": 297,
      "outputs": [
        {
          "output_type": "stream",
          "name": "stdout",
          "text": [
            "Model: \"model_5\"\n",
            "__________________________________________________________________________________________________\n",
            " Layer (type)                   Output Shape         Param #     Connected to                     \n",
            "==================================================================================================\n",
            " input_21 (InputLayer)          [(None, 50)]         0           []                               \n",
            "                                                                                                  \n",
            " input_22 (InputLayer)          [(None, 50)]         0           []                               \n",
            "                                                                                                  \n",
            " dense_99 (Dense)               (None, 32)           1632        ['input_21[0][0]']               \n",
            "                                                                                                  \n",
            " dense_102 (Dense)              (None, 32)           1632        ['input_22[0][0]']               \n",
            "                                                                                                  \n",
            " dense_100 (Dense)              (None, 64)           2112        ['dense_99[0][0]']               \n",
            "                                                                                                  \n",
            " dense_103 (Dense)              (None, 64)           2112        ['dense_102[0][0]']              \n",
            "                                                                                                  \n",
            " dense_101 (Dense)              (None, 5)            325         ['dense_100[0][0]']              \n",
            "                                                                                                  \n",
            " dense_104 (Dense)              (None, 5)            325         ['dense_103[0][0]']              \n",
            "                                                                                                  \n",
            " concatenate_5 (Concatenate)    (None, 10)           0           ['dense_101[0][0]',              \n",
            "                                                                  'dense_104[0][0]']              \n",
            "                                                                                                  \n",
            "==================================================================================================\n",
            "Total params: 8,138\n",
            "Trainable params: 8,138\n",
            "Non-trainable params: 0\n",
            "__________________________________________________________________________________________________\n"
          ]
        }
      ]
    },
    {
      "cell_type": "markdown",
      "source": [
        "**MELAKUKAN PREDICTION**"
      ],
      "metadata": {
        "id": "ADoMcjSc3XNf"
      }
    },
    {
      "cell_type": "code",
      "source": [
        "print(test_data_job)\n",
        "print(test_data_jobseeker)\n"
      ],
      "metadata": {
        "colab": {
          "base_uri": "https://localhost:8080/"
        },
        "id": "E9YrJXfG4rzX",
        "outputId": "008b6373-9487-4237-abef-4338cc029536"
      },
      "execution_count": 298,
      "outputs": [
        {
          "output_type": "stream",
          "name": "stdout",
          "text": [
            "      id                           posisi          kategori\n",
            "30    31     Technical Support Specialist  Customer Service\n",
            "67    68        Inventory Control Manager          Logistik\n",
            "62    63      Customer Service Supervisor  Customer Service\n",
            "47    48             Supply Chain Analyst          Logistik\n",
            "42    43                Call Center Agent  Customer Service\n",
            "40    41   Administrasi Layanan Pelanggan      Administrasi\n",
            "90    91  Customer Service Representative  Customer Service\n",
            "45    46                Event Coordinator         Marketing\n",
            "10    11       Customer Relations Officer  Customer Service\n",
            "0      1               Staff Administrasi      Administrasi\n",
            "18    19    Customer Experience Associate  Customer Service\n",
            "31    32             Warehouse Supervisor          Logistik\n",
            "97    98            Marketing Coordinator         Marketing\n",
            "85    86                  Product Manager         Marketing\n",
            "76    77    Administrasi Penjualan Grosir      Administrasi\n",
            "4      5           Administrasi Penjualan      Administrasi\n",
            "79    80             Warehouse Supervisor          Logistik\n",
            "33    34         Public Relations Manager         Marketing\n",
            "12    13           Administrasi Pemasaran      Administrasi\n",
            "26    27    Client Service Representative  Customer Service\n",
            "100  101           Administrasi Pemasaran      Administrasi\n",
            "      id                nama  pengalaman         skill    preferensi\n",
            "30    31          Eka Wijaya           2  Administrasi     Pemasaran\n",
            "67    68    Pramudya Santoso           3     Pelayanan    Persediaan\n",
            "62    63     Kartika Lestari           2     Pemasaran  Administrasi\n",
            "47    48        Vita Susanto           1     Pelayanan  Administrasi\n",
            "42    43       Putri Lestari           4  Administrasi    Persediaan\n",
            "40    41        Oscar Wibowo           3     Pelayanan    Persediaan\n",
            "90    91     Maulana Pratiwi           3     Pelayanan     Pelanggan\n",
            "45    46     Taufik Setiawan           3     Pelayanan     Pelanggan\n",
            "10    11        Kartika Dewi           2     Pemasaran     Pelanggan\n",
            "0      1       Andi Setiawan           2     Pemasaran  Administrasi\n",
            "18    19          Santi Dewi           3     Pelayanan     Pelanggan\n",
            "31    32     Fitri Handayani           3     Pelayanan    Persediaan\n",
            "97    98         Taufik Dewi           1     Pelayanan     Pelanggan\n",
            "85    86  Hendrianto Lestari           3     Pelayanan    Persediaan\n",
            "76    77           Zara Dewi           3     Pelayanan    Persediaan\n",
            "4      5         Eka Suryadi           3     Pelayanan    Persediaan\n",
            "79    80       Bayu Hartanto           1     Pelayanan     Pelanggan\n",
            "33    34     Hendra Setiawan           4  Administrasi    Persediaan\n",
            "12    13       Maulana Yusuf           2  Administrasi     Pemasaran\n",
            "26    27         Ani Kartika           2     Pemasaran  Administrasi\n",
            "100  101       Wahyu Kartika           2     Pemasaran     Pelanggan\n"
          ]
        }
      ]
    },
    {
      "cell_type": "code",
      "source": [
        "# Mengubah kolom dengan nilai non-numerik menjadi numerik dengan One-Hot Encoding\n",
        "test_data_job_encoded = pd.get_dummies(test_data_job)\n",
        "test_data_jobseeker_encoded = pd.get_dummies(test_data_jobseeker)"
      ],
      "metadata": {
        "id": "Z2EJM0Yx5Qor"
      },
      "execution_count": 299,
      "outputs": []
    },
    {
      "cell_type": "code",
      "source": [
        "# Mengkonversi objek DataFrame menjadi objek NumPy\n",
        "test_data_job_encoded = test_data_job_encoded.values.astype(np.float32)\n",
        "test_data_jobseeker_encoded = test_data_jobseeker_encoded.values.astype(np.float32)"
      ],
      "metadata": {
        "id": "F93jxkmn5STc"
      },
      "execution_count": 300,
      "outputs": []
    },
    {
      "cell_type": "code",
      "source": [
        "# Mengonversi objek NumPy menjadi tensor dengan tipe data tf.float32\n",
        "test_data_job = tf.constant(test_data_job_encoded)\n",
        "test_data_jobseeker = tf.constant(test_data_jobseeker_encoded)"
      ],
      "metadata": {
        "id": "7KAeqoNI5aW0"
      },
      "execution_count": 301,
      "outputs": []
    },
    {
      "cell_type": "code",
      "source": [
        "# layer input\n",
        "input_job = Input(shape=(input_dim_job,))\n",
        "input_jobseeker = Input(shape=(input_dim_jobseeker,))\n"
      ],
      "metadata": {
        "id": "_Y2NWiWx5_b4"
      },
      "execution_count": 302,
      "outputs": []
    },
    {
      "cell_type": "code",
      "source": [
        "# Ubah jumlah kolom menjadi 50\n",
        "test_data_job = tf.concat([test_data_job, tf.zeros((test_data_job.shape[0], 26))], axis=1)\n",
        "test_data_jobseeker = tf.concat([test_data_jobseeker, tf.zeros((test_data_jobseeker.shape[0], 20))], axis=1)"
      ],
      "metadata": {
        "id": "q3ZA1Pim_cxT"
      },
      "execution_count": 303,
      "outputs": []
    },
    {
      "cell_type": "code",
      "source": [
        "# Periksa bentuk data\n",
        "print(\"Bentuk awal test_data_job:\", test_data_job.shape)\n",
        "print(\"Bentuk awal test_data_jobseeker:\", test_data_jobseeker.shape)"
      ],
      "metadata": {
        "colab": {
          "base_uri": "https://localhost:8080/"
        },
        "id": "5jGRWizx_C2Y",
        "outputId": "1b0d7716-b208-4374-dcb6-75a59ada2e9a"
      },
      "execution_count": 304,
      "outputs": [
        {
          "output_type": "stream",
          "name": "stdout",
          "text": [
            "Bentuk awal test_data_job: (21, 50)\n",
            "Bentuk awal test_data_jobseeker: (21, 50)\n"
          ]
        }
      ]
    },
    {
      "cell_type": "code",
      "source": [
        "# Menggunakan data uji sebagai contoh\n",
        "predictions = model.predict([test_data_job, test_data_jobseeker])\n",
        "\n",
        "# Menampilkan hasil prediksi\n",
        "for i, prediction in enumerate(predictions):\n",
        "    print(\"Data ke-\", i+1)\n",
        "    print(\"Prediksi:\", prediction)\n"
      ],
      "metadata": {
        "colab": {
          "base_uri": "https://localhost:8080/"
        },
        "id": "0pcUKQkO3aB9",
        "outputId": "2967c63b-bc0c-4b52-c81f-82d0864dd38f"
      },
      "execution_count": 305,
      "outputs": [
        {
          "output_type": "stream",
          "name": "stderr",
          "text": [
            "WARNING:tensorflow:6 out of the last 7 calls to <function Model.make_predict_function.<locals>.predict_function at 0x7ff394a193f0> triggered tf.function retracing. Tracing is expensive and the excessive number of tracings could be due to (1) creating @tf.function repeatedly in a loop, (2) passing tensors with different shapes, (3) passing Python objects instead of tensors. For (1), please define your @tf.function outside of the loop. For (2), @tf.function has reduce_retracing=True option that can avoid unnecessary retracing. For (3), please refer to https://www.tensorflow.org/guide/function#controlling_retracing and https://www.tensorflow.org/api_docs/python/tf/function for  more details.\n"
          ]
        },
        {
          "output_type": "stream",
          "name": "stdout",
          "text": [
            "1/1 [==============================] - 0s 125ms/step\n",
            "Data ke- 1\n",
            "Prediksi: [7.2944970e-03 1.5037971e-04 1.7214890e-01 7.7396375e-01 4.6442363e-02\n",
            " 2.5316438e-02 2.7854991e-01 2.6563324e-02 5.1103484e-02 6.1846691e-01]\n",
            "Data ke- 2\n",
            "Prediksi: [2.2120881e-05 6.8610624e-09 2.0670502e-02 9.7725785e-01 2.0494850e-03\n",
            " 2.0130060e-03 1.8624100e-01 1.3518808e-03 4.2858412e-03 8.0610836e-01]\n",
            "Data ke- 3\n",
            "Prediksi: [4.9783488e-05 2.8955006e-08 3.3438489e-02 9.6352130e-01 2.9904470e-03\n",
            " 2.5930221e-03 2.0309249e-01 2.0439422e-03 5.7688970e-03 7.8650165e-01]\n",
            "Data ke- 4\n",
            "Prediksi: [3.9847440e-04 1.8454347e-06 5.6406792e-02 9.3361062e-01 9.5822839e-03\n",
            " 1.1156117e-02 2.5109524e-01 7.5651235e-03 1.7091384e-02 7.1309215e-01]\n",
            "Data ke- 5\n",
            "Prediksi: [9.89882508e-04 5.32805052e-06 8.60098302e-02 8.97991300e-01\n",
            " 1.50035694e-02 1.49625195e-02 2.52608001e-01 1.16457660e-02\n",
            " 3.05961184e-02 6.90187633e-01]\n",
            "Data ke- 6\n",
            "Prediksi: [1.8487077e-03 1.0446270e-05 7.1333639e-02 9.0393430e-01 2.2872863e-02\n",
            " 1.9211866e-02 2.7070209e-01 1.4219393e-02 3.3650771e-02 6.6221583e-01]\n",
            "Data ke- 7\n",
            "Prediksi: [5.4888937e-07 1.1983523e-11 4.5580319e-03 9.9521548e-01 2.2593037e-04\n",
            " 3.3675748e-04 1.3637303e-01 1.7623078e-04 8.2188752e-04 8.6229199e-01]\n",
            "Data ke- 8\n",
            "Prediksi: [6.7924132e-04 2.8009315e-06 7.1018197e-02 9.1501081e-01 1.3288961e-02\n",
            " 1.6222496e-02 2.1542424e-01 9.1565372e-03 2.1468956e-02 7.3772770e-01]\n",
            "Data ke- 9\n",
            "Prediksi: [0.0690483  0.02043149 0.2330984  0.54018945 0.13723241 0.17377973\n",
            " 0.24870995 0.13397959 0.16238807 0.28114274]\n",
            "Data ke- 10\n",
            "Prediksi: [0.21695797 0.18405537 0.16063347 0.2114944  0.22685875 0.24263726\n",
            " 0.18884397 0.14089626 0.18923075 0.2383917 ]\n",
            "Data ke- 11\n",
            "Prediksi: [0.03362622 0.00317389 0.2515398  0.6094924  0.10216772 0.12645154\n",
            " 0.24597117 0.07718723 0.13596344 0.4144265 ]\n",
            "Data ke- 12\n",
            "Prediksi: [5.19512966e-03 1.18468146e-04 1.53411776e-01 7.95305252e-01\n",
            " 4.59693931e-02 3.46341655e-02 2.71245062e-01 2.66790763e-02\n",
            " 5.70174530e-02 6.10424161e-01]\n",
            "Data ke- 13\n",
            "Prediksi: [2.1816770e-07 1.5058624e-12 4.4533177e-03 9.9540001e-01 1.4643338e-04\n",
            " 1.8839687e-04 1.4337383e-01 1.0562887e-04 4.0123236e-04 8.5593098e-01]\n",
            "Data ke- 14\n",
            "Prediksi: [1.2957157e-06 4.1218987e-11 9.4666416e-03 9.9011445e-01 4.1761092e-04\n",
            " 4.7422040e-04 1.4264262e-01 2.9150691e-04 1.0604791e-03 8.5553116e-01]\n",
            "Data ke- 15\n",
            "Prediksi: [6.5466211e-06 4.7935400e-10 1.3386010e-02 9.8565203e-01 9.5537357e-04\n",
            " 1.2080410e-03 1.9764817e-01 6.1611348e-04 2.3087626e-03 7.9821891e-01]\n",
            "Data ke- 16\n",
            "Prediksi: [0.14489193 0.0678813  0.2996928  0.27314645 0.21438755 0.19482721\n",
            " 0.19698866 0.15854822 0.21154448 0.23809147]\n",
            "Data ke- 17\n",
            "Prediksi: [3.3405211e-06 2.4165711e-10 1.2430987e-02 9.8682183e-01 7.4379542e-04\n",
            " 7.9389097e-04 1.8087643e-01 5.3219218e-04 1.6908244e-03 8.1610668e-01]\n",
            "Data ke- 18\n",
            "Prediksi: [4.0914561e-03 7.4926844e-05 1.6355377e-01 7.9082996e-01 4.1449845e-02\n",
            " 3.2804832e-02 2.6407567e-01 2.0335492e-02 5.4816388e-02 6.2796766e-01]\n",
            "Data ke- 19\n",
            "Prediksi: [0.07394332 0.01433326 0.24700145 0.49404526 0.17067662 0.08692831\n",
            " 0.28482488 0.10957883 0.15401366 0.36465436]\n",
            "Data ke- 20\n",
            "Prediksi: [1.19204875e-02 4.28904488e-04 1.58190608e-01 7.63133466e-01\n",
            " 6.63265660e-02 4.84255925e-02 3.00809413e-01 4.71894108e-02\n",
            " 7.42868483e-02 5.29288769e-01]\n",
            "Data ke- 21\n",
            "Prediksi: [1.41948078e-07 7.10359885e-13 3.24379676e-03 9.96635973e-01\n",
            " 1.20154764e-04 1.81922325e-04 1.48464695e-01 8.79376603e-05\n",
            " 3.46092915e-04 8.50919366e-01]\n"
          ]
        }
      ]
    },
    {
      "cell_type": "code",
      "source": [
        "# Contoh pembentukan model sederhana\n",
        "model = tf.keras.Sequential()\n",
        "model.add(tf.keras.layers.Dense(64, activation='relu', input_dim=10))\n",
        "model.add(tf.keras.layers.Dense(64, activation='relu'))\n",
        "model.add(tf.keras.layers.Dense(1, activation='sigmoid'))"
      ],
      "metadata": {
        "id": "riSF5aVJH5Pn"
      },
      "execution_count": 306,
      "outputs": []
    },
    {
      "cell_type": "code",
      "source": [
        "# Kompilasi model\n",
        "model.compile(optimizer='adam',\n",
        "              loss='binary_crossentropy',\n",
        "              metrics=['accuracy'])"
      ],
      "metadata": {
        "id": "fB6NTyM8H6Z6"
      },
      "execution_count": 307,
      "outputs": []
    },
    {
      "cell_type": "code",
      "source": [
        "data_validasi = tf.constant([[5.2, 3.5, 1.4, 0],\n",
        "                            [6.4, 2.9, 4.3, 1],\n",
        "                            [7.9, 3.8, 6.4, 2],\n",
        "                            [6.1, 2.6, 5.6, 2]])\n"
      ],
      "metadata": {
        "id": "vOW8MmX6LDLs"
      },
      "execution_count": 308,
      "outputs": []
    },
    {
      "cell_type": "code",
      "source": [
        "# Mengisi matriks fitur dan label untuk data pelatihan\n",
        "X_train = train_data_job[:, :-1]  # Mengambil semua kolom kecuali kolom label\n",
        "y_train = train_data_jobseeker[:, -1]  # Mengambil kolom label\n",
        "\n",
        "X_val = data_validasi[:, :-1]  # Mengambil semua kolom kecuali kolom label\n",
        "y_val = data_validasi[:, -1]  # Mengambil kolom label"
      ],
      "metadata": {
        "id": "_bsuLJWjIx-v"
      },
      "execution_count": 309,
      "outputs": []
    },
    {
      "cell_type": "code",
      "source": [
        "# Mengambil 10 kolom pertama dari X_train_processed\n",
        "X_train_processed = X_train_processed[:, :10]\n",
        "\n",
        "# Mengambil 10 kolom pertama dari X_val_processed\n",
        "X_val_processed = X_val_processed[:, :10]\n",
        "\n",
        "# Menyamakan dimensi dengan menggabungkan kolom-kolom\n",
        "if X_train_processed.shape[1] < 10:\n",
        "    X_train_processed = np.hstack((X_train_processed, np.zeros((X_train_processed.shape[0], 10 - X_train_processed.shape[1]))))\n",
        "if X_val_processed.shape[1] < 10:\n",
        "    X_val_processed = np.hstack((X_val_processed, np.zeros((X_val_processed.shape[0], 10 - X_val_processed.shape[1]))))"
      ],
      "metadata": {
        "id": "x_jDezgrL-w3"
      },
      "execution_count": 310,
      "outputs": []
    },
    {
      "cell_type": "code",
      "source": [
        "# Melihat dimensi baru dari X_train_processed dan X_val_processed\n",
        "print(X_train_processed.shape)  # (None, 10)\n",
        "print(X_val_processed.shape)  # (None, 10)"
      ],
      "metadata": {
        "colab": {
          "base_uri": "https://localhost:8080/"
        },
        "id": "0gUEBJzmMAIQ",
        "outputId": "9c2b606b-45d9-4163-fb22-add26f040c8d"
      },
      "execution_count": 311,
      "outputs": [
        {
          "output_type": "stream",
          "name": "stdout",
          "text": [
            "(102, 10)\n",
            "(4, 10)\n"
          ]
        }
      ]
    },
    {
      "cell_type": "code",
      "source": [
        "# Membuat model Sequential baru dengan dimensi input (None, 10)\n",
        "model = tf.keras.Sequential()\n",
        "model.add(tf.keras.layers.Dense(32, input_shape=(10,), activation='relu'))\n",
        "model.add(tf.keras.layers.Dense(1, activation='sigmoid'))"
      ],
      "metadata": {
        "id": "pPOVNPKJMqMq"
      },
      "execution_count": 312,
      "outputs": []
    },
    {
      "cell_type": "code",
      "source": [
        "# Melakukan kompilasi model dan pelatihan\n",
        "model.compile(optimizer='adam', loss='binary_crossentropy', metrics=['accuracy'])\n",
        "history = model.fit(X_train_processed, y_train, epochs=10, validation_data=(X_val_processed, y_val))"
      ],
      "metadata": {
        "colab": {
          "base_uri": "https://localhost:8080/"
        },
        "id": "ipUWFegKMsav",
        "outputId": "1ba230f1-d7ff-4d27-bbe9-41076d02192b"
      },
      "execution_count": 313,
      "outputs": [
        {
          "output_type": "stream",
          "name": "stdout",
          "text": [
            "Epoch 1/10\n",
            "4/4 [==============================] - 1s 69ms/step - loss: 4.9022 - accuracy: 0.2157 - val_loss: -0.1062 - val_accuracy: 0.2500\n",
            "Epoch 2/10\n",
            "4/4 [==============================] - 0s 21ms/step - loss: 3.8568 - accuracy: 0.2157 - val_loss: -0.0208 - val_accuracy: 0.2500\n",
            "Epoch 3/10\n",
            "4/4 [==============================] - 0s 14ms/step - loss: 2.8421 - accuracy: 0.2157 - val_loss: 0.0659 - val_accuracy: 0.2500\n",
            "Epoch 4/10\n",
            "4/4 [==============================] - 0s 13ms/step - loss: 1.8592 - accuracy: 0.2255 - val_loss: 0.1557 - val_accuracy: 0.2500\n",
            "Epoch 5/10\n",
            "4/4 [==============================] - 0s 19ms/step - loss: 1.0564 - accuracy: 0.2745 - val_loss: 0.2396 - val_accuracy: 0.2500\n",
            "Epoch 6/10\n",
            "4/4 [==============================] - 0s 13ms/step - loss: 0.6096 - accuracy: 0.7745 - val_loss: 0.3087 - val_accuracy: 0.2500\n",
            "Epoch 7/10\n",
            "4/4 [==============================] - 0s 13ms/step - loss: 0.5664 - accuracy: 0.7843 - val_loss: 0.3581 - val_accuracy: 0.2500\n",
            "Epoch 8/10\n",
            "4/4 [==============================] - 0s 13ms/step - loss: 0.5879 - accuracy: 0.7843 - val_loss: 0.3858 - val_accuracy: 0.2500\n",
            "Epoch 9/10\n",
            "4/4 [==============================] - 0s 18ms/step - loss: 0.6054 - accuracy: 0.7843 - val_loss: 0.3994 - val_accuracy: 0.2500\n",
            "Epoch 10/10\n",
            "4/4 [==============================] - 0s 18ms/step - loss: 0.6115 - accuracy: 0.7843 - val_loss: 0.4073 - val_accuracy: 0.2500\n"
          ]
        }
      ]
    },
    {
      "cell_type": "code",
      "source": [
        "# Melakukan evaluasi metrik pada data pelatihan\n",
        "train_loss, train_accuracy = model.evaluate(X_train_processed, y_train)\n",
        "print('Train Loss:', train_loss)\n",
        "print('Train Accuracy:', train_accuracy)\n"
      ],
      "metadata": {
        "colab": {
          "base_uri": "https://localhost:8080/"
        },
        "id": "9krPgJ3SH8ZC",
        "outputId": "8917c189-e38c-480d-cdcc-4819ef816b28"
      },
      "execution_count": 314,
      "outputs": [
        {
          "output_type": "stream",
          "name": "stdout",
          "text": [
            "4/4 [==============================] - 0s 4ms/step - loss: 0.6090 - accuracy: 0.7843\n",
            "Train Loss: 0.609027087688446\n",
            "Train Accuracy: 0.7843137383460999\n"
          ]
        }
      ]
    },
    {
      "cell_type": "code",
      "source": [
        "# Melakukan evaluasi metrik pada data validasi\n",
        "val_loss, val_accuracy = model.evaluate(X_val_processed, y_val)\n",
        "print('Validation Loss:', val_loss)\n",
        "print('Validation Accuracy:', val_accuracy)"
      ],
      "metadata": {
        "colab": {
          "base_uri": "https://localhost:8080/"
        },
        "id": "Fe0p0Tt3PLNS",
        "outputId": "0128fa2a-9786-4a0d-8efb-1069a034a062"
      },
      "execution_count": 315,
      "outputs": [
        {
          "output_type": "stream",
          "name": "stdout",
          "text": [
            "1/1 [==============================] - 0s 30ms/step - loss: 0.4073 - accuracy: 0.2500\n",
            "Validation Loss: 0.4072941839694977\n",
            "Validation Accuracy: 0.25\n"
          ]
        }
      ]
    },
    {
      "cell_type": "code",
      "source": [
        "# Menampilkan hasil evaluasi\n",
        "print('Training Accuracy:', train_accuracy)\n",
        "print('Validation Accuracy:', val_accuracy)\n"
      ],
      "metadata": {
        "colab": {
          "base_uri": "https://localhost:8080/"
        },
        "id": "tQI9SIQdPNR8",
        "outputId": "a3c64a7f-e3cd-4fdf-b6a0-72d0636c4d1f"
      },
      "execution_count": 316,
      "outputs": [
        {
          "output_type": "stream",
          "name": "stdout",
          "text": [
            "Training Accuracy: 0.7843137383460999\n",
            "Validation Accuracy: 0.25\n"
          ]
        }
      ]
    },
    {
      "cell_type": "code",
      "source": [
        "# Plot grafik loss\n",
        "plt.plot(history.history['loss'])\n",
        "plt.plot(history.history['val_loss'])\n",
        "plt.title('Model Loss')\n",
        "plt.ylabel('Loss')\n",
        "plt.xlabel('Epoch')\n",
        "plt.legend(['Train', 'Validation'], loc='upper right')\n",
        "plt.show()"
      ],
      "metadata": {
        "colab": {
          "base_uri": "https://localhost:8080/",
          "height": 472
        },
        "id": "yxD0WxrXPi9g",
        "outputId": "67dbc641-f3d2-477a-d202-ada6b3ed35a0"
      },
      "execution_count": 317,
      "outputs": [
        {
          "output_type": "display_data",
          "data": {
            "text/plain": [
              "<Figure size 640x480 with 1 Axes>"
            ],
            "image/png": "[encoded data removed]"
          },
          "metadata": {}
        }
      ]
    }
  ]
}