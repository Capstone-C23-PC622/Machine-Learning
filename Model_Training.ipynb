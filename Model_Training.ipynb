{
  "nbformat": 4,
  "nbformat_minor": 0,
  "metadata": {
    "colab": {
      "provenance": []
    },
    "kernelspec": {
      "name": "python3",
      "display_name": "Python 3"
    },
    "language_info": {
      "name": "python"
    }
  },
  "cells": [
    {
      "cell_type": "code",
      "execution_count": 63,
      "metadata": {
        "id": "SnrM-VR5tViN"
      },
      "outputs": [],
      "source": [
        "import pandas as pd\n",
        "import numpy as np\n",
        "import tensorflow as tf\n",
        "import pickle\n",
        "import matplotlib.pyplot as plt\n",
        "import tensorflow.keras.utils as utils\n",
        "from tensorflow.keras.utils import to_categorical\n",
        "from tensorflow import keras\n",
        "from sklearn.tree import DecisionTreeClassifier\n",
        "from sklearn.model_selection import train_test_split\n",
        "from sklearn.model_selection import cross_val_score\n",
        "from sklearn.compose import ColumnTransformer\n",
        "from sklearn.metrics import accuracy_score, precision_score, recall_score, f1_score\n",
        "from sklearn.impute import SimpleImputer\n",
        "from sklearn.preprocessing import LabelEncoder, OneHotEncoder\n",
        "from tensorflow.keras.models import Sequential\n",
        "from tensorflow.keras.layers import Dense"
      ]
    },
    {
      "cell_type": "code",
      "source": [
        "jobseeker = pd.read_csv('/content/jobseeker.csv')\n",
        "jobseeker.head(5)"
      ],
      "metadata": {
        "colab": {
          "base_uri": "https://localhost:8080/",
          "height": 206
        },
        "id": "uvQsCEFdtunX",
        "outputId": "c788cf14-70e1-462a-8998-d543f88077ac"
      },
      "execution_count": 64,
      "outputs": [
        {
          "output_type": "execute_result",
          "data": {
            "text/plain": [
              "   id               nama                alamat  pendidikan         pengalaman  \\\n",
              "0   1       Devi Laksita   KABUPATEN BATU BARA         SMP  Retail dan Dagang   \n",
              "1   2    Maryadi Damanik  KABUPATEN ACEH TIMUR          SD          Freelance   \n",
              "2   3  Harsana Puspasari      KABUPATEN BANTUL         SMP          Teknologi   \n",
              "3   4     Banawi Pratiwi    KABUPATEN ENREKANG         SMP  Retail dan Dagang   \n",
              "4   5      Karen Waskita      KABUPATEN PUNCAK       S1/D4    Pekerjaan Lepas   \n",
              "\n",
              "    pengalaman_tahun         keterampilan             peminatan  \n",
              "0                  3              Inovasi            Pariwisata  \n",
              "1                  3           Komunikasi       Pekerjaan Lepas  \n",
              "2                  3            Pemasaran  Tidak Ada Pengalaman  \n",
              "3                  3  Teknologi Informasi                Teknik  \n",
              "4                  2             Adaptasi                Teknik  "
            ],
            "text/html": [
              "\n",
              "  <div id=\"df-d9375adb-7f4d-442e-944d-e60ede20811f\">\n",
              "    <div class=\"colab-df-container\">\n",
              "      <div>\n",
              "<style scoped>\n",
              "    .dataframe tbody tr th:only-of-type {\n",
              "        vertical-align: middle;\n",
              "    }\n",
              "\n",
              "    .dataframe tbody tr th {\n",
              "        vertical-align: top;\n",
              "    }\n",
              "\n",
              "    .dataframe thead th {\n",
              "        text-align: right;\n",
              "    }\n",
              "</style>\n",
              "<table border=\"1\" class=\"dataframe\">\n",
              "  <thead>\n",
              "    <tr style=\"text-align: right;\">\n",
              "      <th></th>\n",
              "      <th>id</th>\n",
              "      <th>nama</th>\n",
              "      <th>alamat</th>\n",
              "      <th>pendidikan</th>\n",
              "      <th>pengalaman</th>\n",
              "      <th>pengalaman_tahun</th>\n",
              "      <th>keterampilan</th>\n",
              "      <th>peminatan</th>\n",
              "    </tr>\n",
              "  </thead>\n",
              "  <tbody>\n",
              "    <tr>\n",
              "      <th>0</th>\n",
              "      <td>1</td>\n",
              "      <td>Devi Laksita</td>\n",
              "      <td>KABUPATEN BATU BARA</td>\n",
              "      <td>SMP</td>\n",
              "      <td>Retail dan Dagang</td>\n",
              "      <td>3</td>\n",
              "      <td>Inovasi</td>\n",
              "      <td>Pariwisata</td>\n",
              "    </tr>\n",
              "    <tr>\n",
              "      <th>1</th>\n",
              "      <td>2</td>\n",
              "      <td>Maryadi Damanik</td>\n",
              "      <td>KABUPATEN ACEH TIMUR</td>\n",
              "      <td>SD</td>\n",
              "      <td>Freelance</td>\n",
              "      <td>3</td>\n",
              "      <td>Komunikasi</td>\n",
              "      <td>Pekerjaan Lepas</td>\n",
              "    </tr>\n",
              "    <tr>\n",
              "      <th>2</th>\n",
              "      <td>3</td>\n",
              "      <td>Harsana Puspasari</td>\n",
              "      <td>KABUPATEN BANTUL</td>\n",
              "      <td>SMP</td>\n",
              "      <td>Teknologi</td>\n",
              "      <td>3</td>\n",
              "      <td>Pemasaran</td>\n",
              "      <td>Tidak Ada Pengalaman</td>\n",
              "    </tr>\n",
              "    <tr>\n",
              "      <th>3</th>\n",
              "      <td>4</td>\n",
              "      <td>Banawi Pratiwi</td>\n",
              "      <td>KABUPATEN ENREKANG</td>\n",
              "      <td>SMP</td>\n",
              "      <td>Retail dan Dagang</td>\n",
              "      <td>3</td>\n",
              "      <td>Teknologi Informasi</td>\n",
              "      <td>Teknik</td>\n",
              "    </tr>\n",
              "    <tr>\n",
              "      <th>4</th>\n",
              "      <td>5</td>\n",
              "      <td>Karen Waskita</td>\n",
              "      <td>KABUPATEN PUNCAK</td>\n",
              "      <td>S1/D4</td>\n",
              "      <td>Pekerjaan Lepas</td>\n",
              "      <td>2</td>\n",
              "      <td>Adaptasi</td>\n",
              "      <td>Teknik</td>\n",
              "    </tr>\n",
              "  </tbody>\n",
              "</table>\n",
              "</div>\n",
              "      <button class=\"colab-df-convert\" onclick=\"convertToInteractive('df-d9375adb-7f4d-442e-944d-e60ede20811f')\"\n",
              "              title=\"Convert this dataframe to an interactive table.\"\n",
              "              style=\"display:none;\">\n",
              "        \n",
              "  <svg xmlns=\"http://www.w3.org/2000/svg\" height=\"24px\"viewBox=\"0 0 24 24\"\n",
              "       width=\"24px\">\n",
              "    <path d=\"M0 0h24v24H0V0z\" fill=\"none\"/>\n",
              "    <path d=\"M18.56 5.44l.94 2.06.94-2.06 2.06-.94-2.06-.94-.94-2.06-.94 2.06-2.06.94zm-11 1L8.5 8.5l.94-2.06 2.06-.94-2.06-.94L8.5 2.5l-.94 2.06-2.06.94zm10 10l.94 2.06.94-2.06 2.06-.94-2.06-.94-.94-2.06-.94 2.06-2.06.94z\"/><path d=\"M17.41 7.96l-1.37-1.37c-.4-.4-.92-.59-1.43-.59-.52 0-1.04.2-1.43.59L10.3 9.45l-7.72 7.72c-.78.78-.78 2.05 0 2.83L4 21.41c.39.39.9.59 1.41.59.51 0 1.02-.2 1.41-.59l7.78-7.78 2.81-2.81c.8-.78.8-2.07 0-2.86zM5.41 20L4 18.59l7.72-7.72 1.47 1.35L5.41 20z\"/>\n",
              "  </svg>\n",
              "      </button>\n",
              "      \n",
              "  <style>\n",
              "    .colab-df-container {\n",
              "      display:flex;\n",
              "      flex-wrap:wrap;\n",
              "      gap: 12px;\n",
              "    }\n",
              "\n",
              "    .colab-df-convert {\n",
              "      background-color: #E8F0FE;\n",
              "      border: none;\n",
              "      border-radius: 50%;\n",
              "      cursor: pointer;\n",
              "      display: none;\n",
              "      fill: #1967D2;\n",
              "      height: 32px;\n",
              "      padding: 0 0 0 0;\n",
              "      width: 32px;\n",
              "    }\n",
              "\n",
              "    .colab-df-convert:hover {\n",
              "      background-color: #E2EBFA;\n",
              "      box-shadow: 0px 1px 2px rgba(60, 64, 67, 0.3), 0px 1px 3px 1px rgba(60, 64, 67, 0.15);\n",
              "      fill: #174EA6;\n",
              "    }\n",
              "\n",
              "    [theme=dark] .colab-df-convert {\n",
              "      background-color: #3B4455;\n",
              "      fill: #D2E3FC;\n",
              "    }\n",
              "\n",
              "    [theme=dark] .colab-df-convert:hover {\n",
              "      background-color: #434B5C;\n",
              "      box-shadow: 0px 1px 3px 1px rgba(0, 0, 0, 0.15);\n",
              "      filter: drop-shadow(0px 1px 2px rgba(0, 0, 0, 0.3));\n",
              "      fill: #FFFFFF;\n",
              "    }\n",
              "  </style>\n",
              "\n",
              "      <script>\n",
              "        const buttonEl =\n",
              "          document.querySelector('#df-d9375adb-7f4d-442e-944d-e60ede20811f button.colab-df-convert');\n",
              "        buttonEl.style.display =\n",
              "          google.colab.kernel.accessAllowed ? 'block' : 'none';\n",
              "\n",
              "        async function convertToInteractive(key) {\n",
              "          const element = document.querySelector('#df-d9375adb-7f4d-442e-944d-e60ede20811f');\n",
              "          const dataTable =\n",
              "            await google.colab.kernel.invokeFunction('convertToInteractive',\n",
              "                                                     [key], {});\n",
              "          if (!dataTable) return;\n",
              "\n",
              "          const docLinkHtml = 'Like what you see? Visit the ' +\n",
              "            '<a target=\"_blank\" href=https://colab.research.google.com/notebooks/data_table.ipynb>data table notebook</a>'\n",
              "            + ' to learn more about interactive tables.';\n",
              "          element.innerHTML = '';\n",
              "          dataTable['output_type'] = 'display_data';\n",
              "          await google.colab.output.renderOutput(dataTable, element);\n",
              "          const docLink = document.createElement('div');\n",
              "          docLink.innerHTML = docLinkHtml;\n",
              "          element.appendChild(docLink);\n",
              "        }\n",
              "      </script>\n",
              "    </div>\n",
              "  </div>\n",
              "  "
            ]
          },
          "metadata": {},
          "execution_count": 64
        }
      ]
    },
    {
      "cell_type": "code",
      "source": [
        "#menghapus spasi di depan kolom\n",
        "jobseeker.columns = jobseeker.columns.str.strip()"
      ],
      "metadata": {
        "id": "u_sP0iNrAQtZ"
      },
      "execution_count": 65,
      "outputs": []
    },
    {
      "cell_type": "code",
      "source": [
        "# Fungsi untuk menentukan nilai label berdasarkan peminatan dan keterampilan\n",
        "def assign_label(row):\n",
        "    if row['peminatan'] in ['Freelance', 'Pariwisata', 'Retail dan Dagang', 'Teknologi'] and row['keterampilan'] in ['Mengembangkan Jaringan', 'Pemasaran', 'Penjualan', 'Kepemimpinan', 'Pemasaran']:\n",
        "        return 'Pelayanan'\n",
        "    elif row['peminatan'] in ['Pariwisata', 'Freelance', 'Teknik'] and row['keterampilan'] in ['Inovasi', 'Komunikasi', 'Adaptasi', 'Kepemimpinan']:\n",
        "        return 'Pariwisata'\n",
        "    elif row['peminatan'] in ['Teknik', 'Teknologi', 'Retail dan Dagang', 'Teknologi'] and row['keterampilan'] in ['Adaptasi', 'Komunikasi', 'Pemasaran']:\n",
        "        return 'Pekerja Lepas'\n",
        "    elif row['peminatan'] in ['Teknologi', 'Teknik', 'Freelance'] and row['keterampilan'] in ['Mengembangkan Jaringan', 'Manajemen', 'Teknologi Informasi']:\n",
        "        return 'Teknik'\n",
        "    elif row['peminatan'] in ['Pekerjaan Lepas', 'Pelayanan'] and row['keterampilan'] in ['Adaptasi', 'Manajemen']:\n",
        "        return 'Freelance'\n",
        "    elif row['peminatan'] == ['Tidak Ada Pengalaman', 'Pariwisata', ] and row['keterampilan'] in ['Adaptasi', 'Komunikasi',]:\n",
        "        return 'Pariwisata'\n",
        "    elif row['peminatan'] in ['Pekerja Lepas', 'Tidak Ada Pengalaman', 'Freelance'] and row['keterampilan'] in ['Keuangan', 'Manajemen', 'Adaptasi', 'Pemasaran']:\n",
        "        return 'Retail dan Dagang'\n",
        "    else:\n",
        "        return 'Teknologi'\n",
        "\n",
        "# Tambahkan kolom label berdasarkan kriteria\n",
        "jobseeker['label'] = jobseeker.apply(assign_label, axis=1)\n",
        "\n",
        "# Tampilkan dataset dengan kolom label baru\n",
        "print(jobseeker)\n"
      ],
      "metadata": {
        "colab": {
          "base_uri": "https://localhost:8080/"
        },
        "id": "gERoMwrr72AX",
        "outputId": "1239ca04-7373-4ad9-b1ee-17e81aa22079"
      },
      "execution_count": 66,
      "outputs": [
        {
          "output_type": "stream",
          "name": "stdout",
          "text": [
            "       id                 nama                    alamat pendidikan  \\\n",
            "0       1         Devi Laksita       KABUPATEN BATU BARA        SMP   \n",
            "1       2      Maryadi Damanik      KABUPATEN ACEH TIMUR         SD   \n",
            "2       3    Harsana Puspasari          KABUPATEN BANTUL        SMP   \n",
            "3       4       Banawi Pratiwi        KABUPATEN ENREKANG        SMP   \n",
            "4       5        Karen Waskita          KABUPATEN PUNCAK      S1/D4   \n",
            "..    ...                  ...                       ...        ...   \n",
            "995   996     Among Laksmiwati       KABUPATEN MANOKWARI         SD   \n",
            "996   997       Galih Dongoran    KABUPATEN SUMBA TENGAH    SMA/SMK   \n",
            "997   998  Bakianto Zulkarnain  KABUPATEN SORONG SELATAN        SMP   \n",
            "998   999     Jaswadi Lazuardi    KABUPATEN LOMBOK BARAT        SMP   \n",
            "999  1000     Nabila Oktaviani     KABUPATEN KULON PROGO         SD   \n",
            "\n",
            "            pengalaman  pengalaman_tahun            keterampilan  \\\n",
            "0    Retail dan Dagang                 3                 Inovasi   \n",
            "1            Freelance                 3              Komunikasi   \n",
            "2            Teknologi                 3               Pemasaran   \n",
            "3    Retail dan Dagang                 3     Teknologi Informasi   \n",
            "4      Pekerjaan Lepas                 2                Adaptasi   \n",
            "..                 ...               ...                     ...   \n",
            "995  Retail dan Dagang                 2                 Inovasi   \n",
            "996          Freelance                 2  Mengembangkan Jaringan   \n",
            "997             Teknik                 2              Komunikasi   \n",
            "998  Retail dan Dagang                 3  Mengembangkan Jaringan   \n",
            "999             Teknik                 1     Teknologi Informasi   \n",
            "\n",
            "                peminatan              label  \n",
            "0              Pariwisata         Pariwisata  \n",
            "1         Pekerjaan Lepas          Teknologi  \n",
            "2    Tidak Ada Pengalaman  Retail dan Dagang  \n",
            "3                  Teknik             Teknik  \n",
            "4                  Teknik         Pariwisata  \n",
            "..                    ...                ...  \n",
            "995  Tidak Ada Pengalaman          Teknologi  \n",
            "996             Freelance          Pelayanan  \n",
            "997  Tidak Ada Pengalaman          Teknologi  \n",
            "998             Teknologi          Pelayanan  \n",
            "999                Teknik             Teknik  \n",
            "\n",
            "[1000 rows x 9 columns]\n"
          ]
        }
      ]
    },
    {
      "cell_type": "code",
      "source": [
        "# Memisahkan fitur (X) dan label (y)\n",
        "X = jobseeker[['peminatan', 'keterampilan']]\n",
        "y = jobseeker['label']\n",
        "\n",
        "# Membagi data menjadi data latih dan data uji\n",
        "X_train, X_test, y_train, y_test = train_test_split(X, y, test_size=0.2, random_state=42)"
      ],
      "metadata": {
        "id": "my8oj9W_SMEg"
      },
      "execution_count": 67,
      "outputs": []
    },
    {
      "cell_type": "code",
      "source": [
        "# Menggunakan LabelEncoder untuk mengonversi kolom target menjadi nilai numerik\n",
        "label_encoder = LabelEncoder()\n",
        "y_train_encoded = label_encoder.fit_transform(y_train)\n",
        "\n",
        "# Menggunakan One-Hot Encoding untuk mengonversi fitur kategorikal\n",
        "column_transformer = ColumnTransformer([('encoder', OneHotEncoder(), [0, 1])], remainder='passthrough')\n",
        "X_train_encoded = column_transformer.fit_transform(X_train)\n",
        "\n",
        "# Membuat instance Decision Tree Classifier\n",
        "dt_classifier = DecisionTreeClassifier()\n",
        "\n",
        "# Melatih model dengan data yang telah diencode\n",
        "dt_classifier.fit(X_train_encoded, y_train_encoded)"
      ],
      "metadata": {
        "colab": {
          "base_uri": "https://localhost:8080/",
          "height": 75
        },
        "id": "FUY2GaNaSTfa",
        "outputId": "3546338e-e7ec-4f5f-9ab1-c7285e69e622"
      },
      "execution_count": 68,
      "outputs": [
        {
          "output_type": "execute_result",
          "data": {
            "text/plain": [
              "DecisionTreeClassifier()"
            ],
            "text/html": [
              "<style>#sk-container-id-1 {color: black;background-color: white;}#sk-container-id-1 pre{padding: 0;}#sk-container-id-1 div.sk-toggleable {background-color: white;}#sk-container-id-1 label.sk-toggleable__label {cursor: pointer;display: block;width: 100%;margin-bottom: 0;padding: 0.3em;box-sizing: border-box;text-align: center;}#sk-container-id-1 label.sk-toggleable__label-arrow:before {content: \"▸\";float: left;margin-right: 0.25em;color: #696969;}#sk-container-id-1 label.sk-toggleable__label-arrow:hover:before {color: black;}#sk-container-id-1 div.sk-estimator:hover label.sk-toggleable__label-arrow:before {color: black;}#sk-container-id-1 div.sk-toggleable__content {max-height: 0;max-width: 0;overflow: hidden;text-align: left;background-color: #f0f8ff;}#sk-container-id-1 div.sk-toggleable__content pre {margin: 0.2em;color: black;border-radius: 0.25em;background-color: #f0f8ff;}#sk-container-id-1 input.sk-toggleable__control:checked~div.sk-toggleable__content {max-height: 200px;max-width: 100%;overflow: auto;}#sk-container-id-1 input.sk-toggleable__control:checked~label.sk-toggleable__label-arrow:before {content: \"▾\";}#sk-container-id-1 div.sk-estimator input.sk-toggleable__control:checked~label.sk-toggleable__label {background-color: #d4ebff;}#sk-container-id-1 div.sk-label input.sk-toggleable__control:checked~label.sk-toggleable__label {background-color: #d4ebff;}#sk-container-id-1 input.sk-hidden--visually {border: 0;clip: rect(1px 1px 1px 1px);clip: rect(1px, 1px, 1px, 1px);height: 1px;margin: -1px;overflow: hidden;padding: 0;position: absolute;width: 1px;}#sk-container-id-1 div.sk-estimator {font-family: monospace;background-color: #f0f8ff;border: 1px dotted black;border-radius: 0.25em;box-sizing: border-box;margin-bottom: 0.5em;}#sk-container-id-1 div.sk-estimator:hover {background-color: #d4ebff;}#sk-container-id-1 div.sk-parallel-item::after {content: \"\";width: 100%;border-bottom: 1px solid gray;flex-grow: 1;}#sk-container-id-1 div.sk-label:hover label.sk-toggleable__label {background-color: #d4ebff;}#sk-container-id-1 div.sk-serial::before {content: \"\";position: absolute;border-left: 1px solid gray;box-sizing: border-box;top: 0;bottom: 0;left: 50%;z-index: 0;}#sk-container-id-1 div.sk-serial {display: flex;flex-direction: column;align-items: center;background-color: white;padding-right: 0.2em;padding-left: 0.2em;position: relative;}#sk-container-id-1 div.sk-item {position: relative;z-index: 1;}#sk-container-id-1 div.sk-parallel {display: flex;align-items: stretch;justify-content: center;background-color: white;position: relative;}#sk-container-id-1 div.sk-item::before, #sk-container-id-1 div.sk-parallel-item::before {content: \"\";position: absolute;border-left: 1px solid gray;box-sizing: border-box;top: 0;bottom: 0;left: 50%;z-index: -1;}#sk-container-id-1 div.sk-parallel-item {display: flex;flex-direction: column;z-index: 1;position: relative;background-color: white;}#sk-container-id-1 div.sk-parallel-item:first-child::after {align-self: flex-end;width: 50%;}#sk-container-id-1 div.sk-parallel-item:last-child::after {align-self: flex-start;width: 50%;}#sk-container-id-1 div.sk-parallel-item:only-child::after {width: 0;}#sk-container-id-1 div.sk-dashed-wrapped {border: 1px dashed gray;margin: 0 0.4em 0.5em 0.4em;box-sizing: border-box;padding-bottom: 0.4em;background-color: white;}#sk-container-id-1 div.sk-label label {font-family: monospace;font-weight: bold;display: inline-block;line-height: 1.2em;}#sk-container-id-1 div.sk-label-container {text-align: center;}#sk-container-id-1 div.sk-container {/* jupyter's `normalize.less` sets `[hidden] { display: none; }` but bootstrap.min.css set `[hidden] { display: none !important; }` so we also need the `!important` here to be able to override the default hidden behavior on the sphinx rendered scikit-learn.org. See: https://github.com/scikit-learn/scikit-learn/issues/21755 */display: inline-block !important;position: relative;}#sk-container-id-1 div.sk-text-repr-fallback {display: none;}</style><div id=\"sk-container-id-1\" class=\"sk-top-container\"><div class=\"sk-text-repr-fallback\"><pre>DecisionTreeClassifier()</pre><b>In a Jupyter environment, please rerun this cell to show the HTML representation or trust the notebook. <br />On GitHub, the HTML representation is unable to render, please try loading this page with nbviewer.org.</b></div><div class=\"sk-container\" hidden><div class=\"sk-item\"><div class=\"sk-estimator sk-toggleable\"><input class=\"sk-toggleable__control sk-hidden--visually\" id=\"sk-estimator-id-1\" type=\"checkbox\" checked><label for=\"sk-estimator-id-1\" class=\"sk-toggleable__label sk-toggleable__label-arrow\">DecisionTreeClassifier</label><div class=\"sk-toggleable__content\"><pre>DecisionTreeClassifier()</pre></div></div></div></div></div>"
            ]
          },
          "metadata": {},
          "execution_count": 68
        }
      ]
    },
    {
      "cell_type": "code",
      "source": [
        "# Mengonversi label pada data test menggunakan LabelEncoder\n",
        "y_test_encoded = label_encoder.transform(y_test)\n",
        "\n",
        "# Mengonversi fitur pada data test menggunakan ColumnTransformer\n",
        "X_test_encoded = column_transformer.transform(X_test)\n",
        "\n",
        "# Definisikan model klasifikasi menggunakan TensorFlow\n",
        "model = tf.keras.models.Sequential([\n",
        "    tf.keras.layers.Dense(64, activation='relu', input_shape=(X_train_encoded.shape[1],)),\n",
        "    tf.keras.layers.Dense(64, activation='relu'),\n",
        "    tf.keras.layers.Dense(len(label_encoder.classes_), activation='softmax')\n",
        "])\n",
        "\n",
        "# Compile model\n",
        "model.compile(optimizer='adam', loss='sparse_categorical_crossentropy', metrics=['accuracy'])\n",
        "\n",
        "# Latih model dengan data yang telah diencode\n",
        "model.fit(X_train_encoded, y_train_encoded, epochs=10, batch_size=32)\n",
        "\n",
        "# Evaluasi model pada data uji yang telah diencode\n",
        "_, accuracy = model.evaluate(X_test_encoded, y_test_encoded)\n",
        "\n",
        "# Print akurasi model\n",
        "print(\"Akurasi model:\", accuracy)"
      ],
      "metadata": {
        "colab": {
          "base_uri": "https://localhost:8080/"
        },
        "id": "62sHkA92SiCj",
        "outputId": "d757fead-4b1b-4f14-c48c-b9e6ba6a3fb9"
      },
      "execution_count": 75,
      "outputs": [
        {
          "output_type": "stream",
          "name": "stdout",
          "text": [
            "Epoch 1/10\n",
            "25/25 [==============================] - 2s 3ms/step - loss: 1.7997 - accuracy: 0.4025\n",
            "Epoch 2/10\n",
            "25/25 [==============================] - 0s 5ms/step - loss: 1.4469 - accuracy: 0.4737\n",
            "Epoch 3/10\n",
            "25/25 [==============================] - 0s 6ms/step - loss: 1.2121 - accuracy: 0.4950\n",
            "Epoch 4/10\n",
            "25/25 [==============================] - 0s 6ms/step - loss: 0.9834 - accuracy: 0.6525\n",
            "Epoch 5/10\n",
            "25/25 [==============================] - 0s 6ms/step - loss: 0.7424 - accuracy: 0.7775\n",
            "Epoch 6/10\n",
            "25/25 [==============================] - 0s 4ms/step - loss: 0.5140 - accuracy: 0.8562\n",
            "Epoch 7/10\n",
            "25/25 [==============================] - 0s 5ms/step - loss: 0.3395 - accuracy: 0.9538\n",
            "Epoch 8/10\n",
            "25/25 [==============================] - 0s 4ms/step - loss: 0.2209 - accuracy: 0.9912\n",
            "Epoch 9/10\n",
            "25/25 [==============================] - 0s 4ms/step - loss: 0.1469 - accuracy: 0.9950\n",
            "Epoch 10/10\n",
            "25/25 [==============================] - 0s 7ms/step - loss: 0.1024 - accuracy: 0.9950\n",
            "7/7 [==============================] - 0s 8ms/step - loss: 0.1168 - accuracy: 0.9900\n",
            "Akurasi model: 0.9900000095367432\n"
          ]
        }
      ]
    },
    {
      "cell_type": "code",
      "source": [
        "# Melakukan prediksi pada data pelatihan\n",
        "y_train_pred = dt_classifier.predict(X_train_encoded)\n",
        "\n",
        "# Menghitung confusion matrix\n",
        "cm = confusion_matrix(y_train_encoded, y_train_pred)\n",
        "print(\"Confusion Matrix:\")\n",
        "print(cm)"
      ],
      "metadata": {
        "colab": {
          "base_uri": "https://localhost:8080/"
        },
        "id": "cGkjIh4mXa7y",
        "outputId": "78704b8d-58a9-47ed-b8a7-5e57a135fe01"
      },
      "execution_count": 84,
      "outputs": [
        {
          "output_type": "stream",
          "name": "stdout",
          "text": [
            "Confusion Matrix:\n",
            "[[ 31   0   0   0   0   0   0]\n",
            " [  0  94   0   0   0   0   0]\n",
            " [  0   0  40   0   0   0   0]\n",
            " [  0   0   0 142   0   0   0]\n",
            " [  0   0   0   0  44   0   0]\n",
            " [  0   0   0   0   0  70   0]\n",
            " [  0   0   0   0   0   0 379]]\n"
          ]
        }
      ]
    },
    {
      "cell_type": "code",
      "source": [
        "# Membuat prediksi pada data uji\n",
        "y_pred = model.predict(X_test_encoded)\n",
        "y_pred_classes = np.argmax(y_pred, axis=1)\n",
        "\n",
        "# Menghitung confusion matrix\n",
        "cm = confusion_matrix(y_test_encoded, y_pred_classes)\n",
        "\n",
        "print(\"Confusion Matrix:\")\n",
        "print(cm)"
      ],
      "metadata": {
        "colab": {
          "base_uri": "https://localhost:8080/"
        },
        "id": "72z-fLx9YQoV",
        "outputId": "0c3380a4-3cce-4659-d040-342eb814d999"
      },
      "execution_count": 86,
      "outputs": [
        {
          "output_type": "stream",
          "name": "stdout",
          "text": [
            "7/7 [==============================] - 0s 3ms/step\n",
            "Confusion Matrix:\n",
            "[[15  0  0  0  0  0  0]\n",
            " [ 0 18  0  0  0  0  0]\n",
            " [ 0  0 10  0  0  0  0]\n",
            " [ 0  0  0 36  0  0  0]\n",
            " [ 0  0  0  0  8  0  0]\n",
            " [ 0  0  0  0  0 23  0]\n",
            " [ 0  0  0  0  0  0 90]]\n"
          ]
        }
      ]
    },
    {
      "cell_type": "code",
      "source": [
        "# Test\n",
        "test = jobseeker.loc[(jobseeker['keterampilan'] == 'Komunikasi') & (jobseeker['peminatan'] == 'Pekerjaan Lepas'), 'label'].values[0]\n",
        "\n",
        "# Menampilkan output\n",
        "print(test)\n"
      ],
      "metadata": {
        "colab": {
          "base_uri": "https://localhost:8080/"
        },
        "id": "yNl11h3FzUpp",
        "outputId": "8f99e19d-2600-4e86-d699-10c5c1c41ae7"
      },
      "execution_count": 87,
      "outputs": [
        {
          "output_type": "stream",
          "name": "stdout",
          "text": [
            "Teknologi\n"
          ]
        }
      ]
    },
    {
      "cell_type": "markdown",
      "source": [
        "**EVALUASI**"
      ],
      "metadata": {
        "id": "jCoQfNM-344W"
      }
    },
    {
      "cell_type": "code",
      "source": [
        "# Melakukan prediksi menggunakan model pada data uji\n",
        "y_pred = model.predict(X_test_encoded)\n",
        "\n",
        "# Mengonversi prediksi menjadi label kategori\n",
        "y_pred_labels = label_encoder.inverse_transform(np.argmax(y_pred, axis=1))\n",
        "\n",
        "# Mengonversi label kategori asli pada data uji\n",
        "y_test_labels = label_encoder.inverse_transform(y_test_encoded)\n",
        "\n",
        "# Menghitung metrik evaluasi\n",
        "accuracy = accuracy_score(y_test_labels, y_pred_labels)\n",
        "precision = precision_score(y_test_labels, y_pred_labels, average='weighted')\n",
        "recall = recall_score(y_test_labels, y_pred_labels, average='weighted')\n",
        "f1 = f1_score(y_test_labels, y_pred_labels, average='weighted')\n",
        "\n",
        "# Menampilkan hasil evaluasi\n",
        "print(\"Akurasi:\", accuracy)\n",
        "print(\"Presisi:\", precision)\n",
        "print(\"Recall:\", recall)\n",
        "print(\"F1-score:\", f1)"
      ],
      "metadata": {
        "colab": {
          "base_uri": "https://localhost:8080/"
        },
        "id": "57qbkKtu33zB",
        "outputId": "ea5235e5-561f-4f7b-81d5-aa8c307e494b"
      },
      "execution_count": 88,
      "outputs": [
        {
          "output_type": "stream",
          "name": "stdout",
          "text": [
            "7/7 [==============================] - 0s 2ms/step\n",
            "Akurasi: 1.0\n",
            "Presisi: 1.0\n",
            "Recall: 1.0\n",
            "F1-score: 1.0\n"
          ]
        }
      ]
    },
    {
      "cell_type": "code",
      "source": [
        "# Visualisasi arsitektur model Sequential\n",
        "utils.plot_model(model, to_file='model_architecture.png', show_shapes=True)"
      ],
      "metadata": {
        "colab": {
          "base_uri": "https://localhost:8080/",
          "height": 422
        },
        "id": "i0sDuZV6A4sI",
        "outputId": "66e5f183-2760-44aa-dbe0-d8b55dc7d016"
      },
      "execution_count": 89,
      "outputs": [
        {
          "output_type": "execute_result",
          "data": {
            "image/png": "[encoded data removed]",
            "text/plain": [
              "<IPython.core.display.Image object>"
            ]
          },
          "metadata": {},
          "execution_count": 89
        }
      ]
    },
    {
      "cell_type": "code",
      "source": [
        "# Membuat instance dari History callback\n",
        "history = model.fit(X_train_encoded, y_train_encoded, epochs=10, batch_size=32, validation_data=(X_test_encoded, y_test_encoded), callbacks=[tf.keras.callbacks.History()])\n",
        "\n",
        "# Menampilkan Training and Validation Loss\n",
        "plt.plot(history.history['loss'])\n",
        "plt.plot(history.history['val_loss'])\n",
        "plt.title('Training and Validation Loss')\n",
        "plt.xlabel('Epochs')\n",
        "plt.ylabel('Loss')\n",
        "plt.legend(['Training Loss', 'Validation Loss'])\n",
        "plt.show()\n",
        "\n",
        "# Menampilkan Training and Validation Accuracy\n",
        "plt.plot(history.history['accuracy'])\n",
        "plt.plot(history.history['val_accuracy'])\n",
        "plt.title('Training and Validation Accuracy')\n",
        "plt.xlabel('Epochs')\n",
        "plt.ylabel('Accuracy')\n",
        "plt.legend(['Training Accuracy', 'Validation Accuracy'])\n",
        "plt.show()\n"
      ],
      "metadata": {
        "colab": {
          "base_uri": "https://localhost:8080/",
          "height": 1000
        },
        "id": "4leMdzG5BUFB",
        "outputId": "893ffcfe-6c4e-4a3b-ac28-4dee3a2dfb71"
      },
      "execution_count": 90,
      "outputs": [
        {
          "output_type": "stream",
          "name": "stdout",
          "text": [
            "Epoch 1/10\n",
            "25/25 [==============================] - 0s 4ms/step - loss: 0.0099 - accuracy: 1.0000 - val_loss: 0.0128 - val_accuracy: 1.0000\n",
            "Epoch 2/10\n",
            "25/25 [==============================] - 0s 4ms/step - loss: 0.0087 - accuracy: 1.0000 - val_loss: 0.0113 - val_accuracy: 1.0000\n",
            "Epoch 3/10\n",
            "25/25 [==============================] - 0s 4ms/step - loss: 0.0077 - accuracy: 1.0000 - val_loss: 0.0101 - val_accuracy: 1.0000\n",
            "Epoch 4/10\n",
            "25/25 [==============================] - 0s 3ms/step - loss: 0.0069 - accuracy: 1.0000 - val_loss: 0.0091 - val_accuracy: 1.0000\n",
            "Epoch 5/10\n",
            "25/25 [==============================] - 0s 4ms/step - loss: 0.0062 - accuracy: 1.0000 - val_loss: 0.0082 - val_accuracy: 1.0000\n",
            "Epoch 6/10\n",
            "25/25 [==============================] - 0s 3ms/step - loss: 0.0056 - accuracy: 1.0000 - val_loss: 0.0074 - val_accuracy: 1.0000\n",
            "Epoch 7/10\n",
            "25/25 [==============================] - 0s 3ms/step - loss: 0.0051 - accuracy: 1.0000 - val_loss: 0.0067 - val_accuracy: 1.0000\n",
            "Epoch 8/10\n",
            "25/25 [==============================] - 0s 3ms/step - loss: 0.0046 - accuracy: 1.0000 - val_loss: 0.0061 - val_accuracy: 1.0000\n",
            "Epoch 9/10\n",
            "25/25 [==============================] - 0s 4ms/step - loss: 0.0042 - accuracy: 1.0000 - val_loss: 0.0056 - val_accuracy: 1.0000\n",
            "Epoch 10/10\n",
            "25/25 [==============================] - 0s 3ms/step - loss: 0.0039 - accuracy: 1.0000 - val_loss: 0.0052 - val_accuracy: 1.0000\n"
          ]
        },
        {
          "output_type": "display_data",
          "data": {
            "text/plain": [
              "<Figure size 640x480 with 1 Axes>"
            ],
            "image/png": "[encoded data removed]"
          },
          "metadata": {}
        },
        {
          "output_type": "display_data",
          "data": {
            "text/plain": [
              "<Figure size 640x480 with 1 Axes>"
            ],
            "image/png": "[encoded data removed]"
          },
          "metadata": {}
        }
      ]
    },
    {
      "cell_type": "markdown",
      "source": [
        "**MENYIMPAN FILE DALAM H5**"
      ],
      "metadata": {
        "id": "UvqDuSqC0IXv"
      }
    },
    {
      "cell_type": "code",
      "source": [
        "# Simpan model dalam format .h5\n",
        "model.save('model.h5')"
      ],
      "metadata": {
        "id": "qx_HvRddEHZT"
      },
      "execution_count": 93,
      "outputs": []
    }
  ]
}