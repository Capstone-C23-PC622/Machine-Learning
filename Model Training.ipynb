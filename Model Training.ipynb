{
  "nbformat": 4,
  "nbformat_minor": 0,
  "metadata": {
    "colab": {
      "provenance": []
    },
    "kernelspec": {
      "name": "python3",
      "display_name": "Python 3"
    },
    "language_info": {
      "name": "python"
    }
  },
  "cells": [
    {
      "cell_type": "code",
      "execution_count": 119,
      "metadata": {
        "id": "SnrM-VR5tViN"
      },
      "outputs": [],
      "source": [
        "import pandas as pd\n",
        "import numpy as np\n",
        "import tensorflow as tf\n",
        "import pickle\n",
        "import matplotlib.pyplot as plt\n",
        "from tensorflow import keras\n",
        "from sklearn.tree import DecisionTreeClassifier\n",
        "from sklearn.model_selection import train_test_split\n",
        "from sklearn.model_selection import cross_val_score\n",
        "from sklearn.datasets import load_iris\n",
        "from sklearn.metrics import accuracy_score, precision_score, recall_score, f1_score\n",
        "from sklearn.impute import SimpleImputer\n",
        "from sklearn.preprocessing import LabelEncoder, OneHotEncoder\n",
        "from tensorflow.keras.models import Sequential\n",
        "from tensorflow.keras.layers import Dense"
      ]
    },
    {
      "cell_type": "code",
      "source": [
        "jobseeker = pd.read_csv('/content/jobseeker.csv')\n",
        "jobseeker.head(5)"
      ],
      "metadata": {
        "colab": {
          "base_uri": "https://localhost:8080/",
          "height": 206
        },
        "id": "uvQsCEFdtunX",
        "outputId": "eb62d1aa-102a-46ce-8de7-340fc89a21dd"
      },
      "execution_count": 120,
      "outputs": [
        {
          "output_type": "execute_result",
          "data": {
            "text/plain": [
              "   id               nama                alamat  pendidikan         pengalaman  \\\n",
              "0   1       Devi Laksita   KABUPATEN BATU BARA         SMP  Retail dan Dagang   \n",
              "1   2    Maryadi Damanik  KABUPATEN ACEH TIMUR          SD          Freelance   \n",
              "2   3  Harsana Puspasari      KABUPATEN BANTUL         SMP          Teknologi   \n",
              "3   4     Banawi Pratiwi    KABUPATEN ENREKANG         SMP  Retail dan Dagang   \n",
              "4   5      Karen Waskita      KABUPATEN PUNCAK       S1/D4    Pekerjaan Lepas   \n",
              "\n",
              "    pengalaman_tahun         keterampilan             peminatan  \n",
              "0                  3              Inovasi            Pariwisata  \n",
              "1                  3           Komunikasi       Pekerjaan Lepas  \n",
              "2                  3            Pemasaran  Tidak Ada Pengalaman  \n",
              "3                  3  Teknologi Informasi                Teknik  \n",
              "4                  2             Adaptasi                Teknik  "
            ],
            "text/html": [
              "\n",
              "  <div id=\"df-4e14e208-8122-4cc1-a698-a78380ae0a52\">\n",
              "    <div class=\"colab-df-container\">\n",
              "      <div>\n",
              "<style scoped>\n",
              "    .dataframe tbody tr th:only-of-type {\n",
              "        vertical-align: middle;\n",
              "    }\n",
              "\n",
              "    .dataframe tbody tr th {\n",
              "        vertical-align: top;\n",
              "    }\n",
              "\n",
              "    .dataframe thead th {\n",
              "        text-align: right;\n",
              "    }\n",
              "</style>\n",
              "<table border=\"1\" class=\"dataframe\">\n",
              "  <thead>\n",
              "    <tr style=\"text-align: right;\">\n",
              "      <th></th>\n",
              "      <th>id</th>\n",
              "      <th>nama</th>\n",
              "      <th>alamat</th>\n",
              "      <th>pendidikan</th>\n",
              "      <th>pengalaman</th>\n",
              "      <th>pengalaman_tahun</th>\n",
              "      <th>keterampilan</th>\n",
              "      <th>peminatan</th>\n",
              "    </tr>\n",
              "  </thead>\n",
              "  <tbody>\n",
              "    <tr>\n",
              "      <th>0</th>\n",
              "      <td>1</td>\n",
              "      <td>Devi Laksita</td>\n",
              "      <td>KABUPATEN BATU BARA</td>\n",
              "      <td>SMP</td>\n",
              "      <td>Retail dan Dagang</td>\n",
              "      <td>3</td>\n",
              "      <td>Inovasi</td>\n",
              "      <td>Pariwisata</td>\n",
              "    </tr>\n",
              "    <tr>\n",
              "      <th>1</th>\n",
              "      <td>2</td>\n",
              "      <td>Maryadi Damanik</td>\n",
              "      <td>KABUPATEN ACEH TIMUR</td>\n",
              "      <td>SD</td>\n",
              "      <td>Freelance</td>\n",
              "      <td>3</td>\n",
              "      <td>Komunikasi</td>\n",
              "      <td>Pekerjaan Lepas</td>\n",
              "    </tr>\n",
              "    <tr>\n",
              "      <th>2</th>\n",
              "      <td>3</td>\n",
              "      <td>Harsana Puspasari</td>\n",
              "      <td>KABUPATEN BANTUL</td>\n",
              "      <td>SMP</td>\n",
              "      <td>Teknologi</td>\n",
              "      <td>3</td>\n",
              "      <td>Pemasaran</td>\n",
              "      <td>Tidak Ada Pengalaman</td>\n",
              "    </tr>\n",
              "    <tr>\n",
              "      <th>3</th>\n",
              "      <td>4</td>\n",
              "      <td>Banawi Pratiwi</td>\n",
              "      <td>KABUPATEN ENREKANG</td>\n",
              "      <td>SMP</td>\n",
              "      <td>Retail dan Dagang</td>\n",
              "      <td>3</td>\n",
              "      <td>Teknologi Informasi</td>\n",
              "      <td>Teknik</td>\n",
              "    </tr>\n",
              "    <tr>\n",
              "      <th>4</th>\n",
              "      <td>5</td>\n",
              "      <td>Karen Waskita</td>\n",
              "      <td>KABUPATEN PUNCAK</td>\n",
              "      <td>S1/D4</td>\n",
              "      <td>Pekerjaan Lepas</td>\n",
              "      <td>2</td>\n",
              "      <td>Adaptasi</td>\n",
              "      <td>Teknik</td>\n",
              "    </tr>\n",
              "  </tbody>\n",
              "</table>\n",
              "</div>\n",
              "      <button class=\"colab-df-convert\" onclick=\"convertToInteractive('df-4e14e208-8122-4cc1-a698-a78380ae0a52')\"\n",
              "              title=\"Convert this dataframe to an interactive table.\"\n",
              "              style=\"display:none;\">\n",
              "        \n",
              "  <svg xmlns=\"http://www.w3.org/2000/svg\" height=\"24px\"viewBox=\"0 0 24 24\"\n",
              "       width=\"24px\">\n",
              "    <path d=\"M0 0h24v24H0V0z\" fill=\"none\"/>\n",
              "    <path d=\"M18.56 5.44l.94 2.06.94-2.06 2.06-.94-2.06-.94-.94-2.06-.94 2.06-2.06.94zm-11 1L8.5 8.5l.94-2.06 2.06-.94-2.06-.94L8.5 2.5l-.94 2.06-2.06.94zm10 10l.94 2.06.94-2.06 2.06-.94-2.06-.94-.94-2.06-.94 2.06-2.06.94z\"/><path d=\"M17.41 7.96l-1.37-1.37c-.4-.4-.92-.59-1.43-.59-.52 0-1.04.2-1.43.59L10.3 9.45l-7.72 7.72c-.78.78-.78 2.05 0 2.83L4 21.41c.39.39.9.59 1.41.59.51 0 1.02-.2 1.41-.59l7.78-7.78 2.81-2.81c.8-.78.8-2.07 0-2.86zM5.41 20L4 18.59l7.72-7.72 1.47 1.35L5.41 20z\"/>\n",
              "  </svg>\n",
              "      </button>\n",
              "      \n",
              "  <style>\n",
              "    .colab-df-container {\n",
              "      display:flex;\n",
              "      flex-wrap:wrap;\n",
              "      gap: 12px;\n",
              "    }\n",
              "\n",
              "    .colab-df-convert {\n",
              "      background-color: #E8F0FE;\n",
              "      border: none;\n",
              "      border-radius: 50%;\n",
              "      cursor: pointer;\n",
              "      display: none;\n",
              "      fill: #1967D2;\n",
              "      height: 32px;\n",
              "      padding: 0 0 0 0;\n",
              "      width: 32px;\n",
              "    }\n",
              "\n",
              "    .colab-df-convert:hover {\n",
              "      background-color: #E2EBFA;\n",
              "      box-shadow: 0px 1px 2px rgba(60, 64, 67, 0.3), 0px 1px 3px 1px rgba(60, 64, 67, 0.15);\n",
              "      fill: #174EA6;\n",
              "    }\n",
              "\n",
              "    [theme=dark] .colab-df-convert {\n",
              "      background-color: #3B4455;\n",
              "      fill: #D2E3FC;\n",
              "    }\n",
              "\n",
              "    [theme=dark] .colab-df-convert:hover {\n",
              "      background-color: #434B5C;\n",
              "      box-shadow: 0px 1px 3px 1px rgba(0, 0, 0, 0.15);\n",
              "      filter: drop-shadow(0px 1px 2px rgba(0, 0, 0, 0.3));\n",
              "      fill: #FFFFFF;\n",
              "    }\n",
              "  </style>\n",
              "\n",
              "      <script>\n",
              "        const buttonEl =\n",
              "          document.querySelector('#df-4e14e208-8122-4cc1-a698-a78380ae0a52 button.colab-df-convert');\n",
              "        buttonEl.style.display =\n",
              "          google.colab.kernel.accessAllowed ? 'block' : 'none';\n",
              "\n",
              "        async function convertToInteractive(key) {\n",
              "          const element = document.querySelector('#df-4e14e208-8122-4cc1-a698-a78380ae0a52');\n",
              "          const dataTable =\n",
              "            await google.colab.kernel.invokeFunction('convertToInteractive',\n",
              "                                                     [key], {});\n",
              "          if (!dataTable) return;\n",
              "\n",
              "          const docLinkHtml = 'Like what you see? Visit the ' +\n",
              "            '<a target=\"_blank\" href=https://colab.research.google.com/notebooks/data_table.ipynb>data table notebook</a>'\n",
              "            + ' to learn more about interactive tables.';\n",
              "          element.innerHTML = '';\n",
              "          dataTable['output_type'] = 'display_data';\n",
              "          await google.colab.output.renderOutput(dataTable, element);\n",
              "          const docLink = document.createElement('div');\n",
              "          docLink.innerHTML = docLinkHtml;\n",
              "          element.appendChild(docLink);\n",
              "        }\n",
              "      </script>\n",
              "    </div>\n",
              "  </div>\n",
              "  "
            ]
          },
          "metadata": {},
          "execution_count": 120
        }
      ]
    },
    {
      "cell_type": "code",
      "source": [
        "#menghapus spasi di depan kolom\n",
        "jobseeker.columns = jobseeker.columns.str.strip()"
      ],
      "metadata": {
        "id": "u_sP0iNrAQtZ"
      },
      "execution_count": 121,
      "outputs": []
    },
    {
      "cell_type": "code",
      "source": [
        "# Fungsi untuk menentukan nilai label berdasarkan peminatan dan keterampilan\n",
        "def assign_label(row):\n",
        "    if row['peminatan'] in ['Retail dan Dagang', 'Pelayanan', 'Pariwisata'] and row['keterampilan'] in ['Manajemen', 'Keuangan']:\n",
        "        return 'Peminatan dan Keterampilan Tinggi'\n",
        "    elif row['peminatan'] in ['Freelance', 'Pekerjaan Lepas', 'Teknologi'] and row['keterampilan'] in ['Pemasaran', 'Penjualan', 'Kepemimpinan']:\n",
        "        return 'Peminatan Tinggi, Keterampilan Menengah'\n",
        "    elif row['peminatan'] in ['Teknologi', 'Teknik'] and row['keterampilan'] in ['Mengembangkan Jaringan', 'Manajemen Risiko', 'Teknologi Informasi']:\n",
        "        return 'Peminatan Tinggi, Keterampilan Rendah'\n",
        "    elif row['peminatan'] == 'Tidak Ada Pengalaman' and row['keterampilan'] in ['Komunikasi', 'Adaptasi', 'Inovasi']:\n",
        "        return 'Peminatan Rendah, Keterampilan Tinggi'\n",
        "    else:\n",
        "        return 'Peminatan dan Keterampilan Rendah'\n",
        "\n",
        "# Tambahkan kolom label berdasarkan kriteria\n",
        "jobseeker['label'] = jobseeker.apply(assign_label, axis=1)\n",
        "\n",
        "# Tampilkan dataset dengan kolom label baru\n",
        "print(jobseeker)"
      ],
      "metadata": {
        "colab": {
          "base_uri": "https://localhost:8080/"
        },
        "id": "gERoMwrr72AX",
        "outputId": "40092630-310d-442b-9a4e-732e06bedfd9"
      },
      "execution_count": 122,
      "outputs": [
        {
          "output_type": "stream",
          "name": "stdout",
          "text": [
            "       id                 nama                    alamat pendidikan  \\\n",
            "0       1         Devi Laksita       KABUPATEN BATU BARA        SMP   \n",
            "1       2      Maryadi Damanik      KABUPATEN ACEH TIMUR         SD   \n",
            "2       3    Harsana Puspasari          KABUPATEN BANTUL        SMP   \n",
            "3       4       Banawi Pratiwi        KABUPATEN ENREKANG        SMP   \n",
            "4       5        Karen Waskita          KABUPATEN PUNCAK      S1/D4   \n",
            "..    ...                  ...                       ...        ...   \n",
            "995   996     Among Laksmiwati       KABUPATEN MANOKWARI         SD   \n",
            "996   997       Galih Dongoran    KABUPATEN SUMBA TENGAH    SMA/SMK   \n",
            "997   998  Bakianto Zulkarnain  KABUPATEN SORONG SELATAN        SMP   \n",
            "998   999     Jaswadi Lazuardi    KABUPATEN LOMBOK BARAT        SMP   \n",
            "999  1000     Nabila Oktaviani     KABUPATEN KULON PROGO         SD   \n",
            "\n",
            "            pengalaman  pengalaman_tahun            keterampilan  \\\n",
            "0    Retail dan Dagang                 3                 Inovasi   \n",
            "1            Freelance                 3              Komunikasi   \n",
            "2            Teknologi                 3               Pemasaran   \n",
            "3    Retail dan Dagang                 3     Teknologi Informasi   \n",
            "4      Pekerjaan Lepas                 2                Adaptasi   \n",
            "..                 ...               ...                     ...   \n",
            "995  Retail dan Dagang                 2                 Inovasi   \n",
            "996          Freelance                 2  Mengembangkan Jaringan   \n",
            "997             Teknik                 2              Komunikasi   \n",
            "998  Retail dan Dagang                 3  Mengembangkan Jaringan   \n",
            "999             Teknik                 1     Teknologi Informasi   \n",
            "\n",
            "                peminatan                                  label  \n",
            "0              Pariwisata      Peminatan dan Keterampilan Rendah  \n",
            "1         Pekerjaan Lepas      Peminatan dan Keterampilan Rendah  \n",
            "2    Tidak Ada Pengalaman      Peminatan dan Keterampilan Rendah  \n",
            "3                  Teknik  Peminatan Tinggi, Keterampilan Rendah  \n",
            "4                  Teknik      Peminatan dan Keterampilan Rendah  \n",
            "..                    ...                                    ...  \n",
            "995  Tidak Ada Pengalaman  Peminatan Rendah, Keterampilan Tinggi  \n",
            "996             Freelance      Peminatan dan Keterampilan Rendah  \n",
            "997  Tidak Ada Pengalaman  Peminatan Rendah, Keterampilan Tinggi  \n",
            "998             Teknologi  Peminatan Tinggi, Keterampilan Rendah  \n",
            "999                Teknik  Peminatan Tinggi, Keterampilan Rendah  \n",
            "\n",
            "[1000 rows x 9 columns]\n"
          ]
        }
      ]
    },
    {
      "cell_type": "code",
      "source": [
        "# Inisialisasi LabelEncoder\n",
        "label_encoder = LabelEncoder()\n",
        "\n",
        "# Melakukan Label Encoding pada kolom 'pendidikan'\n",
        "jobseeker['pendidikan_encoded'] = label_encoder.fit_transform(jobseeker['pendidikan'])\n",
        "\n",
        "# Split dataset menjadi fitur (X) dan label (y)\n",
        "X = jobseeker.drop(['label'], axis=1)  # Fitur\n",
        "y = jobseeker['label']  # Label\n",
        "\n",
        "# Split dataset menjadi data latih dan data uji\n",
        "X_train, X_test, y_train, y_test = train_test_split(X, y, test_size=0.2, random_state=42)\n",
        "\n",
        "# Inisialisasi model Decision Tree Classifier\n",
        "model = DecisionTreeClassifier()\n",
        "\n",
        "# Latih model menggunakan data latih\n",
        "model.fit(X_train[['pendidikan_encoded']], y_train)\n",
        "\n",
        "# Lakukan prediksi pada data uji\n",
        "predictions = model.predict(X_test[['pendidikan_encoded']])\n",
        "\n",
        "# Hitung akurasi model\n",
        "accuracy = accuracy_score(y_test, predictions)\n",
        "\n",
        "# Cetak akurasi\n",
        "print(\"Akurasi model:\", accuracy)"
      ],
      "metadata": {
        "colab": {
          "base_uri": "https://localhost:8080/"
        },
        "id": "qC7KIbva0O2A",
        "outputId": "8deef32d-444e-415c-aa34-ba31e30df432"
      },
      "execution_count": 126,
      "outputs": [
        {
          "output_type": "stream",
          "name": "stdout",
          "text": [
            "Akurasi model: 0.74\n"
          ]
        }
      ]
    },
    {
      "cell_type": "code",
      "source": [
        "# Load dataset iris\n",
        "iris = load_iris()\n",
        "features = iris.data\n",
        "labels = iris.target\n",
        "\n",
        "# Split dataset menjadi data latih dan data uji\n",
        "train_features, test_features, train_labels, test_labels = train_test_split(features, labels, test_size=0.2, random_state=42)\n",
        "\n",
        "# Definisikan model klasifikasi\n",
        "model = tf.keras.models.Sequential([\n",
        "    tf.keras.layers.Dense(64, activation='relu', input_shape=(4,)),\n",
        "    tf.keras.layers.Dense(64, activation='relu'),\n",
        "    tf.keras.layers.Dense(3, activation='softmax')\n",
        "])\n",
        "\n",
        "# Compile model\n",
        "model.compile(optimizer='adam', loss='sparse_categorical_crossentropy', metrics=['accuracy'])\n",
        "\n",
        "# Latih model\n",
        "model.fit(train_features, train_labels, epochs=10, batch_size=32)\n",
        "\n",
        "# Evaluasi model pada data uji\n",
        "predictions = model.predict(test_features)\n",
        "predicted_labels = tf.argmax(predictions, axis=1)\n",
        "accuracy = accuracy_score(test_labels, predicted_labels)\n",
        "\n",
        "# Print akurasi model\n",
        "print(\"Akurasi model:\", accuracy)"
      ],
      "metadata": {
        "colab": {
          "base_uri": "https://localhost:8080/"
        },
        "id": "ihfYS4IpLiD6",
        "outputId": "06bad682-d39e-4cbe-8ec1-a01834fd939c"
      },
      "execution_count": 128,
      "outputs": [
        {
          "output_type": "stream",
          "name": "stdout",
          "text": [
            "Epoch 1/10\n",
            "4/4 [==============================] - 1s 4ms/step - loss: 1.1120 - accuracy: 0.5333\n",
            "Epoch 2/10\n",
            "4/4 [==============================] - 0s 6ms/step - loss: 0.9474 - accuracy: 0.6833\n",
            "Epoch 3/10\n",
            "4/4 [==============================] - 0s 5ms/step - loss: 0.8545 - accuracy: 0.6583\n",
            "Epoch 4/10\n",
            "4/4 [==============================] - 0s 6ms/step - loss: 0.7964 - accuracy: 0.6583\n",
            "Epoch 5/10\n",
            "4/4 [==============================] - 0s 5ms/step - loss: 0.7338 - accuracy: 0.6583\n",
            "Epoch 6/10\n",
            "4/4 [==============================] - 0s 4ms/step - loss: 0.6831 - accuracy: 0.7833\n",
            "Epoch 7/10\n",
            "4/4 [==============================] - 0s 4ms/step - loss: 0.6431 - accuracy: 0.9583\n",
            "Epoch 8/10\n",
            "4/4 [==============================] - 0s 5ms/step - loss: 0.6060 - accuracy: 0.9583\n",
            "Epoch 9/10\n",
            "4/4 [==============================] - 0s 5ms/step - loss: 0.5733 - accuracy: 0.9250\n",
            "Epoch 10/10\n",
            "4/4 [==============================] - 0s 4ms/step - loss: 0.5434 - accuracy: 0.8500\n",
            "1/1 [==============================] - 0s 68ms/step\n",
            "Akurasi model: 0.8333333333333334\n"
          ]
        }
      ]
    },
    {
      "cell_type": "code",
      "source": [
        "jobseeker.head(5)"
      ],
      "metadata": {
        "colab": {
          "base_uri": "https://localhost:8080/",
          "height": 337
        },
        "id": "gxKIe32-VBF9",
        "outputId": "aceb60d4-10a4-4036-a746-94059f1d5aa9"
      },
      "execution_count": 129,
      "outputs": [
        {
          "output_type": "execute_result",
          "data": {
            "text/plain": [
              "   id               nama                alamat pendidikan         pengalaman  \\\n",
              "0   1       Devi Laksita   KABUPATEN BATU BARA        SMP  Retail dan Dagang   \n",
              "1   2    Maryadi Damanik  KABUPATEN ACEH TIMUR         SD          Freelance   \n",
              "2   3  Harsana Puspasari      KABUPATEN BANTUL        SMP          Teknologi   \n",
              "3   4     Banawi Pratiwi    KABUPATEN ENREKANG        SMP  Retail dan Dagang   \n",
              "4   5      Karen Waskita      KABUPATEN PUNCAK      S1/D4    Pekerjaan Lepas   \n",
              "\n",
              "   pengalaman_tahun         keterampilan             peminatan  \\\n",
              "0                 3              Inovasi            Pariwisata   \n",
              "1                 3           Komunikasi       Pekerjaan Lepas   \n",
              "2                 3            Pemasaran  Tidak Ada Pengalaman   \n",
              "3                 3  Teknologi Informasi                Teknik   \n",
              "4                 2             Adaptasi                Teknik   \n",
              "\n",
              "                                   label  pendidikan_encoded  \n",
              "0      Peminatan dan Keterampilan Rendah                   3  \n",
              "1      Peminatan dan Keterampilan Rendah                   1  \n",
              "2      Peminatan dan Keterampilan Rendah                   3  \n",
              "3  Peminatan Tinggi, Keterampilan Rendah                   3  \n",
              "4      Peminatan dan Keterampilan Rendah                   0  "
            ],
            "text/html": [
              "\n",
              "  <div id=\"df-e504435d-58cf-4fed-aa43-4008104c7bc6\">\n",
              "    <div class=\"colab-df-container\">\n",
              "      <div>\n",
              "<style scoped>\n",
              "    .dataframe tbody tr th:only-of-type {\n",
              "        vertical-align: middle;\n",
              "    }\n",
              "\n",
              "    .dataframe tbody tr th {\n",
              "        vertical-align: top;\n",
              "    }\n",
              "\n",
              "    .dataframe thead th {\n",
              "        text-align: right;\n",
              "    }\n",
              "</style>\n",
              "<table border=\"1\" class=\"dataframe\">\n",
              "  <thead>\n",
              "    <tr style=\"text-align: right;\">\n",
              "      <th></th>\n",
              "      <th>id</th>\n",
              "      <th>nama</th>\n",
              "      <th>alamat</th>\n",
              "      <th>pendidikan</th>\n",
              "      <th>pengalaman</th>\n",
              "      <th>pengalaman_tahun</th>\n",
              "      <th>keterampilan</th>\n",
              "      <th>peminatan</th>\n",
              "      <th>label</th>\n",
              "      <th>pendidikan_encoded</th>\n",
              "    </tr>\n",
              "  </thead>\n",
              "  <tbody>\n",
              "    <tr>\n",
              "      <th>0</th>\n",
              "      <td>1</td>\n",
              "      <td>Devi Laksita</td>\n",
              "      <td>KABUPATEN BATU BARA</td>\n",
              "      <td>SMP</td>\n",
              "      <td>Retail dan Dagang</td>\n",
              "      <td>3</td>\n",
              "      <td>Inovasi</td>\n",
              "      <td>Pariwisata</td>\n",
              "      <td>Peminatan dan Keterampilan Rendah</td>\n",
              "      <td>3</td>\n",
              "    </tr>\n",
              "    <tr>\n",
              "      <th>1</th>\n",
              "      <td>2</td>\n",
              "      <td>Maryadi Damanik</td>\n",
              "      <td>KABUPATEN ACEH TIMUR</td>\n",
              "      <td>SD</td>\n",
              "      <td>Freelance</td>\n",
              "      <td>3</td>\n",
              "      <td>Komunikasi</td>\n",
              "      <td>Pekerjaan Lepas</td>\n",
              "      <td>Peminatan dan Keterampilan Rendah</td>\n",
              "      <td>1</td>\n",
              "    </tr>\n",
              "    <tr>\n",
              "      <th>2</th>\n",
              "      <td>3</td>\n",
              "      <td>Harsana Puspasari</td>\n",
              "      <td>KABUPATEN BANTUL</td>\n",
              "      <td>SMP</td>\n",
              "      <td>Teknologi</td>\n",
              "      <td>3</td>\n",
              "      <td>Pemasaran</td>\n",
              "      <td>Tidak Ada Pengalaman</td>\n",
              "      <td>Peminatan dan Keterampilan Rendah</td>\n",
              "      <td>3</td>\n",
              "    </tr>\n",
              "    <tr>\n",
              "      <th>3</th>\n",
              "      <td>4</td>\n",
              "      <td>Banawi Pratiwi</td>\n",
              "      <td>KABUPATEN ENREKANG</td>\n",
              "      <td>SMP</td>\n",
              "      <td>Retail dan Dagang</td>\n",
              "      <td>3</td>\n",
              "      <td>Teknologi Informasi</td>\n",
              "      <td>Teknik</td>\n",
              "      <td>Peminatan Tinggi, Keterampilan Rendah</td>\n",
              "      <td>3</td>\n",
              "    </tr>\n",
              "    <tr>\n",
              "      <th>4</th>\n",
              "      <td>5</td>\n",
              "      <td>Karen Waskita</td>\n",
              "      <td>KABUPATEN PUNCAK</td>\n",
              "      <td>S1/D4</td>\n",
              "      <td>Pekerjaan Lepas</td>\n",
              "      <td>2</td>\n",
              "      <td>Adaptasi</td>\n",
              "      <td>Teknik</td>\n",
              "      <td>Peminatan dan Keterampilan Rendah</td>\n",
              "      <td>0</td>\n",
              "    </tr>\n",
              "  </tbody>\n",
              "</table>\n",
              "</div>\n",
              "      <button class=\"colab-df-convert\" onclick=\"convertToInteractive('df-e504435d-58cf-4fed-aa43-4008104c7bc6')\"\n",
              "              title=\"Convert this dataframe to an interactive table.\"\n",
              "              style=\"display:none;\">\n",
              "        \n",
              "  <svg xmlns=\"http://www.w3.org/2000/svg\" height=\"24px\"viewBox=\"0 0 24 24\"\n",
              "       width=\"24px\">\n",
              "    <path d=\"M0 0h24v24H0V0z\" fill=\"none\"/>\n",
              "    <path d=\"M18.56 5.44l.94 2.06.94-2.06 2.06-.94-2.06-.94-.94-2.06-.94 2.06-2.06.94zm-11 1L8.5 8.5l.94-2.06 2.06-.94-2.06-.94L8.5 2.5l-.94 2.06-2.06.94zm10 10l.94 2.06.94-2.06 2.06-.94-2.06-.94-.94-2.06-.94 2.06-2.06.94z\"/><path d=\"M17.41 7.96l-1.37-1.37c-.4-.4-.92-.59-1.43-.59-.52 0-1.04.2-1.43.59L10.3 9.45l-7.72 7.72c-.78.78-.78 2.05 0 2.83L4 21.41c.39.39.9.59 1.41.59.51 0 1.02-.2 1.41-.59l7.78-7.78 2.81-2.81c.8-.78.8-2.07 0-2.86zM5.41 20L4 18.59l7.72-7.72 1.47 1.35L5.41 20z\"/>\n",
              "  </svg>\n",
              "      </button>\n",
              "      \n",
              "  <style>\n",
              "    .colab-df-container {\n",
              "      display:flex;\n",
              "      flex-wrap:wrap;\n",
              "      gap: 12px;\n",
              "    }\n",
              "\n",
              "    .colab-df-convert {\n",
              "      background-color: #E8F0FE;\n",
              "      border: none;\n",
              "      border-radius: 50%;\n",
              "      cursor: pointer;\n",
              "      display: none;\n",
              "      fill: #1967D2;\n",
              "      height: 32px;\n",
              "      padding: 0 0 0 0;\n",
              "      width: 32px;\n",
              "    }\n",
              "\n",
              "    .colab-df-convert:hover {\n",
              "      background-color: #E2EBFA;\n",
              "      box-shadow: 0px 1px 2px rgba(60, 64, 67, 0.3), 0px 1px 3px 1px rgba(60, 64, 67, 0.15);\n",
              "      fill: #174EA6;\n",
              "    }\n",
              "\n",
              "    [theme=dark] .colab-df-convert {\n",
              "      background-color: #3B4455;\n",
              "      fill: #D2E3FC;\n",
              "    }\n",
              "\n",
              "    [theme=dark] .colab-df-convert:hover {\n",
              "      background-color: #434B5C;\n",
              "      box-shadow: 0px 1px 3px 1px rgba(0, 0, 0, 0.15);\n",
              "      filter: drop-shadow(0px 1px 2px rgba(0, 0, 0, 0.3));\n",
              "      fill: #FFFFFF;\n",
              "    }\n",
              "  </style>\n",
              "\n",
              "      <script>\n",
              "        const buttonEl =\n",
              "          document.querySelector('#df-e504435d-58cf-4fed-aa43-4008104c7bc6 button.colab-df-convert');\n",
              "        buttonEl.style.display =\n",
              "          google.colab.kernel.accessAllowed ? 'block' : 'none';\n",
              "\n",
              "        async function convertToInteractive(key) {\n",
              "          const element = document.querySelector('#df-e504435d-58cf-4fed-aa43-4008104c7bc6');\n",
              "          const dataTable =\n",
              "            await google.colab.kernel.invokeFunction('convertToInteractive',\n",
              "                                                     [key], {});\n",
              "          if (!dataTable) return;\n",
              "\n",
              "          const docLinkHtml = 'Like what you see? Visit the ' +\n",
              "            '<a target=\"_blank\" href=https://colab.research.google.com/notebooks/data_table.ipynb>data table notebook</a>'\n",
              "            + ' to learn more about interactive tables.';\n",
              "          element.innerHTML = '';\n",
              "          dataTable['output_type'] = 'display_data';\n",
              "          await google.colab.output.renderOutput(dataTable, element);\n",
              "          const docLink = document.createElement('div');\n",
              "          docLink.innerHTML = docLinkHtml;\n",
              "          element.appendChild(docLink);\n",
              "        }\n",
              "      </script>\n",
              "    </div>\n",
              "  </div>\n",
              "  "
            ]
          },
          "metadata": {},
          "execution_count": 129
        }
      ]
    },
    {
      "cell_type": "code",
      "source": [
        "# Menggunakan model untuk melakukan prediksi pada data uji\n",
        "predictions = model.predict(test_features)\n",
        "\n",
        "# Mengambil 3 prediksi teratas untuk setiap sampel\n",
        "top_predictions = tf.argmax(predictions, axis=1)\n",
        "\n",
        "# Menampilkan 3 prediksi teratas\n",
        "for i in range(3):\n",
        "    sample_index = i  # Ganti dengan indeks sampel yang ingin ditampilkan\n",
        "    predicted_label = top_predictions[sample_index]\n",
        "    print(\"Prediksi teratas untuk sampel ke-\", sample_index+1, \":\", predicted_label)"
      ],
      "metadata": {
        "colab": {
          "base_uri": "https://localhost:8080/"
        },
        "id": "2phPp_qi5_0s",
        "outputId": "2b879de0-7afa-4b68-828d-1e4ac9861766"
      },
      "execution_count": 130,
      "outputs": [
        {
          "output_type": "stream",
          "name": "stdout",
          "text": [
            "1/1 [==============================] - 0s 27ms/step\n",
            "Prediksi teratas untuk sampel ke- 1 : tf.Tensor(2, shape=(), dtype=int64)\n",
            "Prediksi teratas untuk sampel ke- 2 : tf.Tensor(0, shape=(), dtype=int64)\n",
            "Prediksi teratas untuk sampel ke- 3 : tf.Tensor(2, shape=(), dtype=int64)\n"
          ]
        }
      ]
    },
    {
      "cell_type": "markdown",
      "source": [
        "**EVALUASI **\n",
        "\n",
        "---\n",
        "\n"
      ],
      "metadata": {
        "id": "jCoQfNM-344W"
      }
    },
    {
      "cell_type": "code",
      "source": [
        "# Memprediksi label pada data uji\n",
        "predictions = model.predict(test_features)\n",
        "predicted_labels = np.argmax(predictions, axis=1)\n",
        "\n",
        "# Menghitung akurasi\n",
        "accuracy = accuracy_score(test_labels, predicted_labels)\n",
        "\n",
        "# Menghitung presisi\n",
        "precision = precision_score(test_labels, predicted_labels, average='weighted')\n",
        "\n",
        "# Menghitung recall\n",
        "recall = recall_score(test_labels, predicted_labels, average='weighted')\n",
        "\n",
        "# Menghitung F1-score\n",
        "f1 = f1_score(test_labels, predicted_labels, average='weighted')\n",
        "\n",
        "# Cetak hasil evaluasi\n",
        "print(\"Akurasi:\", accuracy)\n",
        "print(\"Presisi:\", precision)\n",
        "print(\"Recall:\", recall)\n",
        "print(\"F1-score:\", f1)\n"
      ],
      "metadata": {
        "colab": {
          "base_uri": "https://localhost:8080/"
        },
        "id": "57qbkKtu33zB",
        "outputId": "f175910e-3bab-4abb-bff5-50c20de4cf2b"
      },
      "execution_count": 132,
      "outputs": [
        {
          "output_type": "stream",
          "name": "stdout",
          "text": [
            "1/1 [==============================] - 0s 28ms/step\n",
            "Akurasi: 0.8333333333333334\n",
            "Presisi: 0.8854166666666666\n",
            "Recall: 0.8333333333333334\n",
            "F1-score: 0.8167141500474833\n"
          ]
        }
      ]
    },
    {
      "cell_type": "code",
      "source": [
        "# Visualisasi arsitektur model Sequential\n",
        "plot_model(model, to_file='model_architecture.png', show_shapes=True)"
      ],
      "metadata": {
        "colab": {
          "base_uri": "https://localhost:8080/",
          "height": 422
        },
        "id": "i0sDuZV6A4sI",
        "outputId": "248fe5e8-5272-489f-c961-aee1b98302be"
      },
      "execution_count": 133,
      "outputs": [
        {
          "output_type": "execute_result",
          "data": {
            "image/png": "[encoded data removed]",
            "text/plain": [
              "<IPython.core.display.Image object>"
            ]
          },
          "metadata": {},
          "execution_count": 133
        }
      ]
    },
    {
      "cell_type": "code",
      "source": [
        "# Latih model dengan metrik validasi\n",
        "history = model.fit(train_features, train_labels, epochs=10, batch_size=32, validation_data=(test_features, test_labels))\n",
        "\n",
        "# Melihat grafik loss dan validasi\n",
        "loss = history.history['loss']\n",
        "val_loss = history.history['val_loss']\n",
        "epochs = range(1, len(loss) + 1)\n",
        "\n",
        "plt.plot(epochs, loss, 'r', label='Training Loss')\n",
        "plt.plot(epochs, val_loss, 'b', label='Validation Loss')\n",
        "plt.title('Grafik Loss dan Validasi')\n",
        "plt.xlabel('Epochs')\n",
        "plt.ylabel('Loss')\n",
        "plt.legend()\n",
        "plt.show()\n"
      ],
      "metadata": {
        "colab": {
          "base_uri": "https://localhost:8080/",
          "height": 819
        },
        "id": "4leMdzG5BUFB",
        "outputId": "8bf1895a-41e3-4999-a205-e14499f365f1"
      },
      "execution_count": 134,
      "outputs": [
        {
          "output_type": "stream",
          "name": "stdout",
          "text": [
            "Epoch 1/10\n",
            "4/4 [==============================] - 0s 75ms/step - loss: 0.5183 - accuracy: 0.8500 - val_loss: 0.4950 - val_accuracy: 0.8333\n",
            "Epoch 2/10\n",
            "4/4 [==============================] - 0s 20ms/step - loss: 0.5002 - accuracy: 0.9083 - val_loss: 0.4787 - val_accuracy: 1.0000\n",
            "Epoch 3/10\n",
            "4/4 [==============================] - 0s 14ms/step - loss: 0.4743 - accuracy: 0.9583 - val_loss: 0.4563 - val_accuracy: 0.9667\n",
            "Epoch 4/10\n",
            "4/4 [==============================] - 0s 14ms/step - loss: 0.4545 - accuracy: 0.9500 - val_loss: 0.4375 - val_accuracy: 0.9667\n",
            "Epoch 5/10\n",
            "4/4 [==============================] - 0s 24ms/step - loss: 0.4376 - accuracy: 0.9500 - val_loss: 0.4196 - val_accuracy: 0.9667\n",
            "Epoch 6/10\n",
            "4/4 [==============================] - 0s 14ms/step - loss: 0.4211 - accuracy: 0.9500 - val_loss: 0.4035 - val_accuracy: 0.9667\n",
            "Epoch 7/10\n",
            "4/4 [==============================] - 0s 17ms/step - loss: 0.4059 - accuracy: 0.9583 - val_loss: 0.3890 - val_accuracy: 1.0000\n",
            "Epoch 8/10\n",
            "4/4 [==============================] - 0s 17ms/step - loss: 0.3893 - accuracy: 0.9583 - val_loss: 0.3741 - val_accuracy: 0.9667\n",
            "Epoch 9/10\n",
            "4/4 [==============================] - 0s 21ms/step - loss: 0.3745 - accuracy: 0.9583 - val_loss: 0.3598 - val_accuracy: 0.9667\n",
            "Epoch 10/10\n",
            "4/4 [==============================] - 0s 21ms/step - loss: 0.3595 - accuracy: 0.9667 - val_loss: 0.3467 - val_accuracy: 1.0000\n"
          ]
        },
        {
          "output_type": "display_data",
          "data": {
            "text/plain": [
              "<Figure size 640x480 with 1 Axes>"
            ],
            "image/png": "[encoded data removed]"
          },
          "metadata": {}
        }
      ]
    },
    {
      "cell_type": "code",
      "source": [
        "# Menyimpan model dalam file pickle\n",
        "filename = 'model.pkl'\n",
        "pickle.dump(model, open(filename, 'wb'))\n",
        "\n",
        "# Mengambil model dari file pickle\n",
        "loaded_model = pickle.load(open(filename, 'rb'))"
      ],
      "metadata": {
        "id": "qx_HvRddEHZT"
      },
      "execution_count": 135,
      "outputs": []
    }
  ]
}