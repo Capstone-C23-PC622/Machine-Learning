{
  "nbformat": 4,
  "nbformat_minor": 0,
  "metadata": {
    "colab": {
      "provenance": []
    },
    "kernelspec": {
      "name": "python3",
      "display_name": "Python 3"
    },
    "language_info": {
      "name": "python"
    }
  },
  "cells": [
    {
      "cell_type": "code",
      "execution_count": 138,
      "metadata": {
        "id": "x9exde-6X9Cb"
      },
      "outputs": [],
      "source": [
        "import pandas as pd\n",
        "import numpy as np\n",
        "import tensorflow as tf\n",
        "import tensorflow.keras.utils as utils\n",
        "import matplotlib.pyplot as plt\n",
        "import pickle\n",
        "from sklearn.metrics import confusion_matrix\n",
        "from sklearn.tree import DecisionTreeClassifier\n",
        "from sklearn.model_selection import train_test_split\n",
        "from sklearn.preprocessing import LabelEncoder, OneHotEncoder\n",
        "from sklearn.compose import ColumnTransformer\n",
        "from sklearn.metrics import accuracy_score, precision_score, recall_score, f1_score"
      ]
    },
    {
      "cell_type": "code",
      "source": [
        "jobseeker = pd.read_csv('/content/jobseeker.csv')\n",
        "jobseeker.head(5)"
      ],
      "metadata": {
        "colab": {
          "base_uri": "https://localhost:8080/",
          "height": 206
        },
        "id": "qA1lAiEEYf-f",
        "outputId": "c6c0758c-4623-4d55-ca4f-22fcbfdcafd0"
      },
      "execution_count": 139,
      "outputs": [
        {
          "output_type": "execute_result",
          "data": {
            "text/plain": [
              "   id               nama                alamat  pendidikan         pengalaman  \\\n",
              "0   1       Devi Laksita   KABUPATEN BATU BARA         SMP  Retail dan Dagang   \n",
              "1   2    Maryadi Damanik  KABUPATEN ACEH TIMUR          SD          Freelance   \n",
              "2   3  Harsana Puspasari      KABUPATEN BANTUL         SMP          Teknologi   \n",
              "3   4     Banawi Pratiwi    KABUPATEN ENREKANG         SMP  Retail dan Dagang   \n",
              "4   5      Karen Waskita      KABUPATEN PUNCAK       S1/D4    Pekerjaan Lepas   \n",
              "\n",
              "    pengalaman_tahun         keterampilan             peminatan  \n",
              "0                  3              Inovasi            Pariwisata  \n",
              "1                  3           Komunikasi       Pekerjaan Lepas  \n",
              "2                  3            Pemasaran  Tidak Ada Pengalaman  \n",
              "3                  3  Teknologi Informasi                Teknik  \n",
              "4                  2             Adaptasi                Teknik  "
            ],
            "text/html": [
              "\n",
              "  <div id=\"df-c2ce02e9-26cd-46f2-a6fe-79b2052584c8\">\n",
              "    <div class=\"colab-df-container\">\n",
              "      <div>\n",
              "<style scoped>\n",
              "    .dataframe tbody tr th:only-of-type {\n",
              "        vertical-align: middle;\n",
              "    }\n",
              "\n",
              "    .dataframe tbody tr th {\n",
              "        vertical-align: top;\n",
              "    }\n",
              "\n",
              "    .dataframe thead th {\n",
              "        text-align: right;\n",
              "    }\n",
              "</style>\n",
              "<table border=\"1\" class=\"dataframe\">\n",
              "  <thead>\n",
              "    <tr style=\"text-align: right;\">\n",
              "      <th></th>\n",
              "      <th>id</th>\n",
              "      <th>nama</th>\n",
              "      <th>alamat</th>\n",
              "      <th>pendidikan</th>\n",
              "      <th>pengalaman</th>\n",
              "      <th>pengalaman_tahun</th>\n",
              "      <th>keterampilan</th>\n",
              "      <th>peminatan</th>\n",
              "    </tr>\n",
              "  </thead>\n",
              "  <tbody>\n",
              "    <tr>\n",
              "      <th>0</th>\n",
              "      <td>1</td>\n",
              "      <td>Devi Laksita</td>\n",
              "      <td>KABUPATEN BATU BARA</td>\n",
              "      <td>SMP</td>\n",
              "      <td>Retail dan Dagang</td>\n",
              "      <td>3</td>\n",
              "      <td>Inovasi</td>\n",
              "      <td>Pariwisata</td>\n",
              "    </tr>\n",
              "    <tr>\n",
              "      <th>1</th>\n",
              "      <td>2</td>\n",
              "      <td>Maryadi Damanik</td>\n",
              "      <td>KABUPATEN ACEH TIMUR</td>\n",
              "      <td>SD</td>\n",
              "      <td>Freelance</td>\n",
              "      <td>3</td>\n",
              "      <td>Komunikasi</td>\n",
              "      <td>Pekerjaan Lepas</td>\n",
              "    </tr>\n",
              "    <tr>\n",
              "      <th>2</th>\n",
              "      <td>3</td>\n",
              "      <td>Harsana Puspasari</td>\n",
              "      <td>KABUPATEN BANTUL</td>\n",
              "      <td>SMP</td>\n",
              "      <td>Teknologi</td>\n",
              "      <td>3</td>\n",
              "      <td>Pemasaran</td>\n",
              "      <td>Tidak Ada Pengalaman</td>\n",
              "    </tr>\n",
              "    <tr>\n",
              "      <th>3</th>\n",
              "      <td>4</td>\n",
              "      <td>Banawi Pratiwi</td>\n",
              "      <td>KABUPATEN ENREKANG</td>\n",
              "      <td>SMP</td>\n",
              "      <td>Retail dan Dagang</td>\n",
              "      <td>3</td>\n",
              "      <td>Teknologi Informasi</td>\n",
              "      <td>Teknik</td>\n",
              "    </tr>\n",
              "    <tr>\n",
              "      <th>4</th>\n",
              "      <td>5</td>\n",
              "      <td>Karen Waskita</td>\n",
              "      <td>KABUPATEN PUNCAK</td>\n",
              "      <td>S1/D4</td>\n",
              "      <td>Pekerjaan Lepas</td>\n",
              "      <td>2</td>\n",
              "      <td>Adaptasi</td>\n",
              "      <td>Teknik</td>\n",
              "    </tr>\n",
              "  </tbody>\n",
              "</table>\n",
              "</div>\n",
              "      <button class=\"colab-df-convert\" onclick=\"convertToInteractive('df-c2ce02e9-26cd-46f2-a6fe-79b2052584c8')\"\n",
              "              title=\"Convert this dataframe to an interactive table.\"\n",
              "              style=\"display:none;\">\n",
              "        \n",
              "  <svg xmlns=\"http://www.w3.org/2000/svg\" height=\"24px\"viewBox=\"0 0 24 24\"\n",
              "       width=\"24px\">\n",
              "    <path d=\"M0 0h24v24H0V0z\" fill=\"none\"/>\n",
              "    <path d=\"M18.56 5.44l.94 2.06.94-2.06 2.06-.94-2.06-.94-.94-2.06-.94 2.06-2.06.94zm-11 1L8.5 8.5l.94-2.06 2.06-.94-2.06-.94L8.5 2.5l-.94 2.06-2.06.94zm10 10l.94 2.06.94-2.06 2.06-.94-2.06-.94-.94-2.06-.94 2.06-2.06.94z\"/><path d=\"M17.41 7.96l-1.37-1.37c-.4-.4-.92-.59-1.43-.59-.52 0-1.04.2-1.43.59L10.3 9.45l-7.72 7.72c-.78.78-.78 2.05 0 2.83L4 21.41c.39.39.9.59 1.41.59.51 0 1.02-.2 1.41-.59l7.78-7.78 2.81-2.81c.8-.78.8-2.07 0-2.86zM5.41 20L4 18.59l7.72-7.72 1.47 1.35L5.41 20z\"/>\n",
              "  </svg>\n",
              "      </button>\n",
              "      \n",
              "  <style>\n",
              "    .colab-df-container {\n",
              "      display:flex;\n",
              "      flex-wrap:wrap;\n",
              "      gap: 12px;\n",
              "    }\n",
              "\n",
              "    .colab-df-convert {\n",
              "      background-color: #E8F0FE;\n",
              "      border: none;\n",
              "      border-radius: 50%;\n",
              "      cursor: pointer;\n",
              "      display: none;\n",
              "      fill: #1967D2;\n",
              "      height: 32px;\n",
              "      padding: 0 0 0 0;\n",
              "      width: 32px;\n",
              "    }\n",
              "\n",
              "    .colab-df-convert:hover {\n",
              "      background-color: #E2EBFA;\n",
              "      box-shadow: 0px 1px 2px rgba(60, 64, 67, 0.3), 0px 1px 3px 1px rgba(60, 64, 67, 0.15);\n",
              "      fill: #174EA6;\n",
              "    }\n",
              "\n",
              "    [theme=dark] .colab-df-convert {\n",
              "      background-color: #3B4455;\n",
              "      fill: #D2E3FC;\n",
              "    }\n",
              "\n",
              "    [theme=dark] .colab-df-convert:hover {\n",
              "      background-color: #434B5C;\n",
              "      box-shadow: 0px 1px 3px 1px rgba(0, 0, 0, 0.15);\n",
              "      filter: drop-shadow(0px 1px 2px rgba(0, 0, 0, 0.3));\n",
              "      fill: #FFFFFF;\n",
              "    }\n",
              "  </style>\n",
              "\n",
              "      <script>\n",
              "        const buttonEl =\n",
              "          document.querySelector('#df-c2ce02e9-26cd-46f2-a6fe-79b2052584c8 button.colab-df-convert');\n",
              "        buttonEl.style.display =\n",
              "          google.colab.kernel.accessAllowed ? 'block' : 'none';\n",
              "\n",
              "        async function convertToInteractive(key) {\n",
              "          const element = document.querySelector('#df-c2ce02e9-26cd-46f2-a6fe-79b2052584c8');\n",
              "          const dataTable =\n",
              "            await google.colab.kernel.invokeFunction('convertToInteractive',\n",
              "                                                     [key], {});\n",
              "          if (!dataTable) return;\n",
              "\n",
              "          const docLinkHtml = 'Like what you see? Visit the ' +\n",
              "            '<a target=\"_blank\" href=https://colab.research.google.com/notebooks/data_table.ipynb>data table notebook</a>'\n",
              "            + ' to learn more about interactive tables.';\n",
              "          element.innerHTML = '';\n",
              "          dataTable['output_type'] = 'display_data';\n",
              "          await google.colab.output.renderOutput(dataTable, element);\n",
              "          const docLink = document.createElement('div');\n",
              "          docLink.innerHTML = docLinkHtml;\n",
              "          element.appendChild(docLink);\n",
              "        }\n",
              "      </script>\n",
              "    </div>\n",
              "  </div>\n",
              "  "
            ]
          },
          "metadata": {},
          "execution_count": 139
        }
      ]
    },
    {
      "cell_type": "code",
      "source": [
        "#menghapus spasi di depan kolom\n",
        "jobseeker.columns = jobseeker.columns.str.strip()"
      ],
      "metadata": {
        "id": "dnS4ZYvPZJln"
      },
      "execution_count": 140,
      "outputs": []
    },
    {
      "cell_type": "code",
      "source": [
        "# Fungsi untuk menentukan nilai label berdasarkan peminatan dan keterampilan\n",
        "def assign_label(row):\n",
        "    if row['peminatan'] in ['Freelance', 'Pariwisata', 'Retail dan Dagang', 'Teknologi'] and row['keterampilan'] in ['Mengembangkan Jaringan', 'Pemasaran', 'Penjualan', 'Kepemimpinan', 'Pemasaran']:\n",
        "        return 'Pelayanan'\n",
        "    elif row['peminatan'] in ['Pariwisata', 'Freelance', 'Teknik'] and row['keterampilan'] in ['Inovasi', 'Komunikasi', 'Adaptasi', 'Kepemimpinan']:\n",
        "        return 'Pariwisata'\n",
        "    elif row['peminatan'] in ['Teknik', 'Teknologi', 'Retail dan Dagang', 'Teknologi'] and row['keterampilan'] in ['Adaptasi', 'Komunikasi', 'Pemasaran']:\n",
        "        return 'Pekerja Lepas'\n",
        "    elif row['peminatan'] in ['Teknologi', 'Teknik', 'Freelance'] and row['keterampilan'] in ['Mengembangkan Jaringan', 'Manajemen', 'Teknologi Informasi']:\n",
        "        return 'Teknik'\n",
        "    elif row['peminatan'] in ['Pekerjaan Lepas', 'Pelayanan'] and row['keterampilan'] in ['Adaptasi', 'Manajemen']:\n",
        "        return 'Freelance'\n",
        "    elif row['peminatan'] in ['Tidak Ada Pengalaman', 'Pariwisata'] and row['keterampilan'] in ['Adaptasi', 'Komunikasi',]:\n",
        "        return 'Pariwisata'\n",
        "    elif row['peminatan'] in ['Pekerja Lepas', 'Tidak Ada Pengalaman', 'Freelance'] and row['keterampilan'] in ['Keuangan', 'Manajemen', 'Adaptasi', 'Pemasaran']:\n",
        "        return 'Retail dan Dagang'\n",
        "    else:\n",
        "        return 'Teknologi'\n",
        "\n",
        "# Tambahkan kolom label berdasarkan kriteria\n",
        "jobseeker['label'] = jobseeker.apply(assign_label, axis=1)\n",
        "\n",
        "# Tampilkan dataset dengan kolom label baru\n",
        "print(jobseeker)"
      ],
      "metadata": {
        "colab": {
          "base_uri": "https://localhost:8080/"
        },
        "id": "_zRTu2NzYlf9",
        "outputId": "ad80e744-08ca-4867-fa7b-301e51893e3a"
      },
      "execution_count": 141,
      "outputs": [
        {
          "output_type": "stream",
          "name": "stdout",
          "text": [
            "       id                 nama                    alamat pendidikan  \\\n",
            "0       1         Devi Laksita       KABUPATEN BATU BARA        SMP   \n",
            "1       2      Maryadi Damanik      KABUPATEN ACEH TIMUR         SD   \n",
            "2       3    Harsana Puspasari          KABUPATEN BANTUL        SMP   \n",
            "3       4       Banawi Pratiwi        KABUPATEN ENREKANG        SMP   \n",
            "4       5        Karen Waskita          KABUPATEN PUNCAK      S1/D4   \n",
            "..    ...                  ...                       ...        ...   \n",
            "995   996     Among Laksmiwati       KABUPATEN MANOKWARI         SD   \n",
            "996   997       Galih Dongoran    KABUPATEN SUMBA TENGAH    SMA/SMK   \n",
            "997   998  Bakianto Zulkarnain  KABUPATEN SORONG SELATAN        SMP   \n",
            "998   999     Jaswadi Lazuardi    KABUPATEN LOMBOK BARAT        SMP   \n",
            "999  1000     Nabila Oktaviani     KABUPATEN KULON PROGO         SD   \n",
            "\n",
            "            pengalaman  pengalaman_tahun            keterampilan  \\\n",
            "0    Retail dan Dagang                 3                 Inovasi   \n",
            "1            Freelance                 3              Komunikasi   \n",
            "2            Teknologi                 3               Pemasaran   \n",
            "3    Retail dan Dagang                 3     Teknologi Informasi   \n",
            "4      Pekerjaan Lepas                 2                Adaptasi   \n",
            "..                 ...               ...                     ...   \n",
            "995  Retail dan Dagang                 2                 Inovasi   \n",
            "996          Freelance                 2  Mengembangkan Jaringan   \n",
            "997             Teknik                 2              Komunikasi   \n",
            "998  Retail dan Dagang                 3  Mengembangkan Jaringan   \n",
            "999             Teknik                 1     Teknologi Informasi   \n",
            "\n",
            "                peminatan              label  \n",
            "0              Pariwisata         Pariwisata  \n",
            "1         Pekerjaan Lepas          Teknologi  \n",
            "2    Tidak Ada Pengalaman  Retail dan Dagang  \n",
            "3                  Teknik             Teknik  \n",
            "4                  Teknik         Pariwisata  \n",
            "..                    ...                ...  \n",
            "995  Tidak Ada Pengalaman          Teknologi  \n",
            "996             Freelance          Pelayanan  \n",
            "997  Tidak Ada Pengalaman         Pariwisata  \n",
            "998             Teknologi          Pelayanan  \n",
            "999                Teknik             Teknik  \n",
            "\n",
            "[1000 rows x 9 columns]\n"
          ]
        }
      ]
    },
    {
      "cell_type": "code",
      "source": [
        "# Memisahkan fitur (X) dan label (y)\n",
        "X = jobseeker[['peminatan', 'keterampilan']]\n",
        "y = jobseeker['label']\n",
        "\n",
        "# Membagi data menjadi data latih dan data uji\n",
        "X_train, X_test, y_train, y_test = train_test_split(X, y, test_size=0.2, random_state=42)\n",
        "\n",
        "# Menampilkan hasil pemisahan\n",
        "print(\"Data Latih:\")\n",
        "print(X_train)\n",
        "print(y_train)\n",
        "print(\"Data Uji:\")\n",
        "print(X_test)\n",
        "print(y_test)"
      ],
      "metadata": {
        "colab": {
          "base_uri": "https://localhost:8080/"
        },
        "id": "SUQs5_88bPsy",
        "outputId": "103131c1-105a-4dc3-de03-1c87be9e47c9"
      },
      "execution_count": 142,
      "outputs": [
        {
          "output_type": "stream",
          "name": "stdout",
          "text": [
            "Data Latih:\n",
            "                peminatan         keterampilan\n",
            "29             Pariwisata            Pemasaran\n",
            "535             Teknologi             Adaptasi\n",
            "695             Freelance             Adaptasi\n",
            "557             Teknologi            Penjualan\n",
            "836                Teknik             Keuangan\n",
            "..                    ...                  ...\n",
            "106            Pariwisata             Keuangan\n",
            "270       Pekerjaan Lepas  Teknologi Informasi\n",
            "860                Teknik             Adaptasi\n",
            "435  Tidak Ada Pengalaman             Keuangan\n",
            "102     Retail dan Dagang              Inovasi\n",
            "\n",
            "[800 rows x 2 columns]\n",
            "29             Pelayanan\n",
            "535        Pekerja Lepas\n",
            "695           Pariwisata\n",
            "557            Pelayanan\n",
            "836            Teknologi\n",
            "             ...        \n",
            "106            Teknologi\n",
            "270            Teknologi\n",
            "860           Pariwisata\n",
            "435    Retail dan Dagang\n",
            "102            Teknologi\n",
            "Name: label, Length: 800, dtype: object\n",
            "Data Uji:\n",
            "             peminatan      keterampilan\n",
            "521  Retail dan Dagang          Adaptasi\n",
            "737          Pelayanan         Pemasaran\n",
            "740          Freelance        Komunikasi\n",
            "660    Pekerjaan Lepas           Inovasi\n",
            "411    Pekerjaan Lepas  Manajemen Risiko\n",
            "..                 ...               ...\n",
            "408         Pariwisata  Manajemen Risiko\n",
            "332         Pariwisata      Kepemimpinan\n",
            "208          Pelayanan         Manajemen\n",
            "613    Pekerjaan Lepas  Manajemen Risiko\n",
            "78           Teknologi         Manajemen\n",
            "\n",
            "[200 rows x 2 columns]\n",
            "521    Pekerja Lepas\n",
            "737        Teknologi\n",
            "740       Pariwisata\n",
            "660        Teknologi\n",
            "411        Teknologi\n",
            "           ...      \n",
            "408        Teknologi\n",
            "332        Pelayanan\n",
            "208        Freelance\n",
            "613        Teknologi\n",
            "78            Teknik\n",
            "Name: label, Length: 200, dtype: object\n"
          ]
        }
      ]
    },
    {
      "cell_type": "code",
      "source": [
        "# Menggunakan LabelEncoder untuk mengonversi kolom target menjadi nilai numerik\n",
        "label_encoder = LabelEncoder()\n",
        "y_train_encoded = label_encoder.fit_transform(y_train)\n",
        "\n",
        "# Menggunakan One-Hot Encoding untuk mengonversi fitur kategorikal\n",
        "column_transformer = ColumnTransformer([('encoder', OneHotEncoder(), [0, 1])], remainder='passthrough')\n",
        "X_train_encoded = column_transformer.fit_transform(X_train)\n",
        "\n",
        "# Membuat instance Decision Tree Classifier\n",
        "dt_classifier = DecisionTreeClassifier()\n",
        "\n",
        "# Melatih model dengan data yang telah diencode\n",
        "dt_classifier.fit(X_train_encoded, y_train_encoded)"
      ],
      "metadata": {
        "colab": {
          "base_uri": "https://localhost:8080/",
          "height": 75
        },
        "id": "-SSnhPY6c3kr",
        "outputId": "c811871b-e7a1-4070-e382-91b01c2a342f"
      },
      "execution_count": 143,
      "outputs": [
        {
          "output_type": "execute_result",
          "data": {
            "text/plain": [
              "DecisionTreeClassifier()"
            ],
            "text/html": [
              "<style>#sk-container-id-8 {color: black;background-color: white;}#sk-container-id-8 pre{padding: 0;}#sk-container-id-8 div.sk-toggleable {background-color: white;}#sk-container-id-8 label.sk-toggleable__label {cursor: pointer;display: block;width: 100%;margin-bottom: 0;padding: 0.3em;box-sizing: border-box;text-align: center;}#sk-container-id-8 label.sk-toggleable__label-arrow:before {content: \"▸\";float: left;margin-right: 0.25em;color: #696969;}#sk-container-id-8 label.sk-toggleable__label-arrow:hover:before {color: black;}#sk-container-id-8 div.sk-estimator:hover label.sk-toggleable__label-arrow:before {color: black;}#sk-container-id-8 div.sk-toggleable__content {max-height: 0;max-width: 0;overflow: hidden;text-align: left;background-color: #f0f8ff;}#sk-container-id-8 div.sk-toggleable__content pre {margin: 0.2em;color: black;border-radius: 0.25em;background-color: #f0f8ff;}#sk-container-id-8 input.sk-toggleable__control:checked~div.sk-toggleable__content {max-height: 200px;max-width: 100%;overflow: auto;}#sk-container-id-8 input.sk-toggleable__control:checked~label.sk-toggleable__label-arrow:before {content: \"▾\";}#sk-container-id-8 div.sk-estimator input.sk-toggleable__control:checked~label.sk-toggleable__label {background-color: #d4ebff;}#sk-container-id-8 div.sk-label input.sk-toggleable__control:checked~label.sk-toggleable__label {background-color: #d4ebff;}#sk-container-id-8 input.sk-hidden--visually {border: 0;clip: rect(1px 1px 1px 1px);clip: rect(1px, 1px, 1px, 1px);height: 1px;margin: -1px;overflow: hidden;padding: 0;position: absolute;width: 1px;}#sk-container-id-8 div.sk-estimator {font-family: monospace;background-color: #f0f8ff;border: 1px dotted black;border-radius: 0.25em;box-sizing: border-box;margin-bottom: 0.5em;}#sk-container-id-8 div.sk-estimator:hover {background-color: #d4ebff;}#sk-container-id-8 div.sk-parallel-item::after {content: \"\";width: 100%;border-bottom: 1px solid gray;flex-grow: 1;}#sk-container-id-8 div.sk-label:hover label.sk-toggleable__label {background-color: #d4ebff;}#sk-container-id-8 div.sk-serial::before {content: \"\";position: absolute;border-left: 1px solid gray;box-sizing: border-box;top: 0;bottom: 0;left: 50%;z-index: 0;}#sk-container-id-8 div.sk-serial {display: flex;flex-direction: column;align-items: center;background-color: white;padding-right: 0.2em;padding-left: 0.2em;position: relative;}#sk-container-id-8 div.sk-item {position: relative;z-index: 1;}#sk-container-id-8 div.sk-parallel {display: flex;align-items: stretch;justify-content: center;background-color: white;position: relative;}#sk-container-id-8 div.sk-item::before, #sk-container-id-8 div.sk-parallel-item::before {content: \"\";position: absolute;border-left: 1px solid gray;box-sizing: border-box;top: 0;bottom: 0;left: 50%;z-index: -1;}#sk-container-id-8 div.sk-parallel-item {display: flex;flex-direction: column;z-index: 1;position: relative;background-color: white;}#sk-container-id-8 div.sk-parallel-item:first-child::after {align-self: flex-end;width: 50%;}#sk-container-id-8 div.sk-parallel-item:last-child::after {align-self: flex-start;width: 50%;}#sk-container-id-8 div.sk-parallel-item:only-child::after {width: 0;}#sk-container-id-8 div.sk-dashed-wrapped {border: 1px dashed gray;margin: 0 0.4em 0.5em 0.4em;box-sizing: border-box;padding-bottom: 0.4em;background-color: white;}#sk-container-id-8 div.sk-label label {font-family: monospace;font-weight: bold;display: inline-block;line-height: 1.2em;}#sk-container-id-8 div.sk-label-container {text-align: center;}#sk-container-id-8 div.sk-container {/* jupyter's `normalize.less` sets `[hidden] { display: none; }` but bootstrap.min.css set `[hidden] { display: none !important; }` so we also need the `!important` here to be able to override the default hidden behavior on the sphinx rendered scikit-learn.org. See: https://github.com/scikit-learn/scikit-learn/issues/21755 */display: inline-block !important;position: relative;}#sk-container-id-8 div.sk-text-repr-fallback {display: none;}</style><div id=\"sk-container-id-8\" class=\"sk-top-container\"><div class=\"sk-text-repr-fallback\"><pre>DecisionTreeClassifier()</pre><b>In a Jupyter environment, please rerun this cell to show the HTML representation or trust the notebook. <br />On GitHub, the HTML representation is unable to render, please try loading this page with nbviewer.org.</b></div><div class=\"sk-container\" hidden><div class=\"sk-item\"><div class=\"sk-estimator sk-toggleable\"><input class=\"sk-toggleable__control sk-hidden--visually\" id=\"sk-estimator-id-8\" type=\"checkbox\" checked><label for=\"sk-estimator-id-8\" class=\"sk-toggleable__label sk-toggleable__label-arrow\">DecisionTreeClassifier</label><div class=\"sk-toggleable__content\"><pre>DecisionTreeClassifier()</pre></div></div></div></div></div>"
            ]
          },
          "metadata": {},
          "execution_count": 143
        }
      ]
    },
    {
      "cell_type": "code",
      "source": [
        "# Mengonversi label pada data uji menggunakan LabelEncoder\n",
        "y_test_encoded = label_encoder.transform(y_test)\n",
        "\n",
        "# Mengonversi fitur pada data uji menggunakan ColumnTransformer\n",
        "X_test_encoded = column_transformer.transform(X_test)\n",
        "\n",
        "# Definisikan model klasifikasi menggunakan TensorFlow\n",
        "model = tf.keras.models.Sequential([\n",
        "    tf.keras.layers.Dense(64, activation='relu', input_shape=(X_train_encoded.shape[1],)),\n",
        "    tf.keras.layers.Dense(64, activation='relu'),\n",
        "    tf.keras.layers.Dense(len(label_encoder.classes_), activation='softmax')\n",
        "])\n",
        "\n",
        "# Compile model\n",
        "model.compile(optimizer='adam', loss='sparse_categorical_crossentropy', metrics=['accuracy'])\n",
        "\n",
        "# Latih model dengan data yang telah diencode\n",
        "model.fit(X_train_encoded, y_train_encoded, epochs=10, batch_size=32)\n",
        "\n",
        "# Evaluasi model pada data uji yang telah diencode\n",
        "_, accuracy = model.evaluate(X_test_encoded, y_test_encoded)\n",
        "\n",
        "# Print akurasi model\n",
        "print(\"Akurasi model:\", accuracy)\n",
        "\n",
        "# Melakukan prediksi pada data pelatihan\n",
        "y_train_pred = dt_classifier.predict(X_train_encoded)\n",
        "\n",
        "# Menghitung matriks kebingungan\n",
        "cm = confusion_matrix(y_train_encoded, y_train_pred)\n",
        "print(\"Confusion Matrix:\")\n",
        "print(cm)\n"
      ],
      "metadata": {
        "colab": {
          "base_uri": "https://localhost:8080/"
        },
        "id": "yeSUgQqOiOp7",
        "outputId": "fd7a09ca-328d-4d39-a9a7-bff101abf293"
      },
      "execution_count": 144,
      "outputs": [
        {
          "output_type": "stream",
          "name": "stdout",
          "text": [
            "Epoch 1/10\n",
            "25/25 [==============================] - 1s 2ms/step - loss: 1.7553 - accuracy: 0.4675\n",
            "Epoch 2/10\n",
            "25/25 [==============================] - 0s 2ms/step - loss: 1.4016 - accuracy: 0.4787\n",
            "Epoch 3/10\n",
            "25/25 [==============================] - 0s 3ms/step - loss: 1.1230 - accuracy: 0.6250\n",
            "Epoch 4/10\n",
            "25/25 [==============================] - 0s 2ms/step - loss: 0.8633 - accuracy: 0.8025\n",
            "Epoch 5/10\n",
            "25/25 [==============================] - 0s 3ms/step - loss: 0.6377 - accuracy: 0.8300\n",
            "Epoch 6/10\n",
            "25/25 [==============================] - 0s 2ms/step - loss: 0.4579 - accuracy: 0.8600\n",
            "Epoch 7/10\n",
            "25/25 [==============================] - 0s 3ms/step - loss: 0.3197 - accuracy: 0.9162\n",
            "Epoch 8/10\n",
            "25/25 [==============================] - 0s 2ms/step - loss: 0.2235 - accuracy: 0.9775\n",
            "Epoch 9/10\n",
            "25/25 [==============================] - 0s 3ms/step - loss: 0.1583 - accuracy: 0.9875\n",
            "Epoch 10/10\n",
            "25/25 [==============================] - 0s 3ms/step - loss: 0.1159 - accuracy: 0.9900\n",
            "7/7 [==============================] - 0s 2ms/step - loss: 0.1510 - accuracy: 0.9700\n",
            "Akurasi model: 0.9700000286102295\n",
            "Confusion Matrix:\n",
            "[[ 31   0   0   0   0   0   0]\n",
            " [  0 120   0   0   0   0   0]\n",
            " [  0   0  40   0   0   0   0]\n",
            " [  0   0   0 142   0   0   0]\n",
            " [  0   0   0   0  28   0   0]\n",
            " [  0   0   0   0   0  70   0]\n",
            " [  0   0   0   0   0   0 369]]\n"
          ]
        }
      ]
    },
    {
      "cell_type": "code",
      "source": [
        "# Membuat prediksi pada data uji\n",
        "y_pred = model.predict(X_test_encoded)\n",
        "y_pred_classes = np.argmax(y_pred, axis=1)\n",
        "\n",
        "# Menghitung confusion matrix\n",
        "cm = confusion_matrix(y_test_encoded, y_pred_classes)\n",
        "\n",
        "# Menghitung akurasi\n",
        "accuracy = accuracy_score(y_test_encoded, y_pred_classes)\n",
        "\n",
        "# Menghitung presisi\n",
        "precision = precision_score(y_test_encoded, y_pred_classes, average='weighted')\n",
        "\n",
        "# Menghitung recall\n",
        "recall = recall_score(y_test_encoded, y_pred_classes, average='weighted')\n",
        "\n",
        "# Menghitung f1-score\n",
        "f1 = f1_score(y_test_encoded, y_pred_classes, average='weighted')\n",
        "\n",
        "print(\"Confusion Matrix:\")\n",
        "print(cm)\n",
        "print(\"Akurasi:\", accuracy)\n",
        "print(\"Presisi:\", precision)\n",
        "print(\"Recall:\", recall)\n",
        "print(\"F1-score:\", f1)\n"
      ],
      "metadata": {
        "colab": {
          "base_uri": "https://localhost:8080/"
        },
        "id": "qJDtiubZqclp",
        "outputId": "363e02aa-c1c2-44e2-9282-34260f57e5f3"
      },
      "execution_count": 145,
      "outputs": [
        {
          "output_type": "stream",
          "name": "stdout",
          "text": [
            "7/7 [==============================] - 0s 2ms/step\n",
            "Confusion Matrix:\n",
            "[[15  0  0  0  0  0  0]\n",
            " [ 0 20  0  0  0  0  0]\n",
            " [ 0  2  8  0  0  0  0]\n",
            " [ 0  0  0 36  0  0  0]\n",
            " [ 0  0  0  0  7  0  0]\n",
            " [ 0  0  0  0  0 23  0]\n",
            " [ 4  0  0  0  0  0 85]]\n",
            "Akurasi: 0.97\n",
            "Presisi: 0.9751196172248804\n",
            "Recall: 0.97\n",
            "F1-score: 0.9706291252133038\n"
          ]
        }
      ]
    },
    {
      "cell_type": "code",
      "source": [
        "# Visualisasi arsitektur model Sequential\n",
        "utils.plot_model(model, to_file='model_architecture.png', show_shapes=True)"
      ],
      "metadata": {
        "colab": {
          "base_uri": "https://localhost:8080/",
          "height": 422
        },
        "id": "ySZKg85quuTf",
        "outputId": "5db904e5-59b3-447f-cdff-77ed29f103b7"
      },
      "execution_count": 146,
      "outputs": [
        {
          "output_type": "execute_result",
          "data": {
            "image/png": "[encoded data removed]",
            "text/plain": [
              "<IPython.core.display.Image object>"
            ]
          },
          "metadata": {},
          "execution_count": 146
        }
      ]
    },
    {
      "cell_type": "code",
      "source": [
        "# Latih model dengan metrik validasi\n",
        "history = model.fit(X_train_encoded, y_train_encoded, epochs=10, batch_size=32, validation_data=(X_test_encoded, y_test_encoded))\n",
        "\n",
        "# Melihat grafik loss dan validasi\n",
        "loss = history.history['loss']\n",
        "val_loss = history.history['val_loss']\n",
        "epochs = range(1, len(loss) + 1)\n",
        "\n",
        "plt.plot(epochs, loss, 'r', label='Training Loss')\n",
        "plt.plot(epochs, val_loss, 'b', label='Validation Loss')\n",
        "plt.title('Grafik Loss dan Validasi')\n",
        "plt.xlabel('Epochs')\n",
        "plt.ylabel('Loss')\n",
        "plt.legend()\n",
        "plt.show()"
      ],
      "metadata": {
        "colab": {
          "base_uri": "https://localhost:8080/",
          "height": 841
        },
        "id": "xTKm-jMvuvF-",
        "outputId": "b227a05c-f6bb-43ce-e894-1ee80d10a3e1"
      },
      "execution_count": 147,
      "outputs": [
        {
          "output_type": "stream",
          "name": "stdout",
          "text": [
            "Epoch 1/10\n",
            "25/25 [==============================] - 0s 4ms/step - loss: 0.0870 - accuracy: 0.9975 - val_loss: 0.1150 - val_accuracy: 1.0000\n",
            "Epoch 2/10\n",
            "25/25 [==============================] - 0s 3ms/step - loss: 0.0673 - accuracy: 1.0000 - val_loss: 0.0916 - val_accuracy: 1.0000\n",
            "Epoch 3/10\n",
            "25/25 [==============================] - 0s 4ms/step - loss: 0.0529 - accuracy: 1.0000 - val_loss: 0.0711 - val_accuracy: 1.0000\n",
            "Epoch 4/10\n",
            "25/25 [==============================] - 0s 4ms/step - loss: 0.0422 - accuracy: 1.0000 - val_loss: 0.0573 - val_accuracy: 1.0000\n",
            "Epoch 5/10\n",
            "25/25 [==============================] - 0s 3ms/step - loss: 0.0346 - accuracy: 1.0000 - val_loss: 0.0464 - val_accuracy: 1.0000\n",
            "Epoch 6/10\n",
            "25/25 [==============================] - 0s 4ms/step - loss: 0.0282 - accuracy: 1.0000 - val_loss: 0.0387 - val_accuracy: 1.0000\n",
            "Epoch 7/10\n",
            "25/25 [==============================] - 0s 11ms/step - loss: 0.0239 - accuracy: 1.0000 - val_loss: 0.0320 - val_accuracy: 1.0000\n",
            "Epoch 8/10\n",
            "25/25 [==============================] - 0s 9ms/step - loss: 0.0201 - accuracy: 1.0000 - val_loss: 0.0276 - val_accuracy: 1.0000\n",
            "Epoch 9/10\n",
            "25/25 [==============================] - 0s 8ms/step - loss: 0.0173 - accuracy: 1.0000 - val_loss: 0.0235 - val_accuracy: 1.0000\n",
            "Epoch 10/10\n",
            "25/25 [==============================] - 0s 6ms/step - loss: 0.0150 - accuracy: 1.0000 - val_loss: 0.0204 - val_accuracy: 1.0000\n"
          ]
        },
        {
          "output_type": "display_data",
          "data": {
            "text/plain": [
              "<Figure size 640x480 with 1 Axes>"
            ],
            "image/png": "[encoded data removed]"
          },
          "metadata": {}
        }
      ]
    },
    {
      "cell_type": "code",
      "source": [
        "# Menyimpan model dalam file pickle\n",
        "filename = 'model.pkl'\n",
        "pickle.dump(model, open(filename, 'wb'))\n",
        "\n",
        "# Mengambil model dari file pickle\n",
        "loaded_model = pickle.load(open(filename, 'rb'))"
      ],
      "metadata": {
        "id": "MewFMkG-vYPd"
      },
      "execution_count": 148,
      "outputs": []
    }
  ]
}