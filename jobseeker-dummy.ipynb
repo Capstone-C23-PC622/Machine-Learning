{
  "nbformat": 4,
  "nbformat_minor": 0,
  "metadata": {
    "colab": {
      "provenance": []
    },
    "kernelspec": {
      "name": "python3",
      "display_name": "Python 3"
    },
    "language_info": {
      "name": "python"
    }
  },
  "cells": [
    {
      "cell_type": "code",
      "source": [
        "import pandas as pd\n",
        "from faker import Faker\n",
        "import random\n",
        "from google.colab import files\n",
        "fake = Faker('id_ID') # Menggunakan Bahasa Indonesia\n",
        "kabupaten = pd.read_csv('kabupaten.csv')\n",
        "\n",
        "# Daftar pendidikan dan peminatan yang mungkin\n",
        "pendidikan = ['SD', 'SMP', 'SMA/SMK', 'S1/D4']\n",
        "keterampilan = ['Manajemen', 'Keuangan', 'Pemasaran', 'Penjualan', 'Kepemimpinan', 'Mengembangkan Jaringan', 'Manajemen Risiko', 'Teknologi Informasi', 'Komunikasi', 'Adaptasi', 'Inovasi']\n",
        "peminatan = ['Retail dan Dagang', 'Pelayanan', 'Pariwisata', 'Freelance', 'Pekerjaan Lepas', 'Teknologi', 'Teknik', 'Tidak Ada Pengalaman']\n",
        "pengalaman = ['Retail dan Dagang', 'Pelayanan', 'Pariwisata', 'Freelance', 'Pekerjaan Lepas', 'Teknologi', 'Teknik', 'Tidak Ada Pengalaman']\n",
        "kab = kabupaten['name']\n",
        "\n",
        "dataset = []\n",
        "\n",
        "def generate_full_name():\n",
        "    first_name = fake.first_name()\n",
        "    last_name = fake.last_name()\n",
        "    full_name = f\"{first_name} {last_name}\"\n",
        "    return full_name\n",
        "\n",
        "for _ in range(1000):\n",
        "    id = _ + 1\n",
        "    nama = generate_full_name()\n",
        "    alamat = random.choice(kab)\n",
        "    pendidikan_terakhir = random.choice(pendidikan)\n",
        "    pengalaman_kerja = random.choice(pengalaman)\n",
        "    pengalaman_tahun = random.randint(1, 3)\n",
        "    keterampilan_skill = random.choice(keterampilan)\n",
        "    peminatan_terakhir = random.choice(peminatan)\n",
        "\n",
        "    data = [id, nama, alamat, pendidikan_terakhir, pengalaman_kerja, pengalaman_tahun, keterampilan_skill, peminatan_terakhir]\n",
        "    dataset.append(data)\n",
        "\n",
        "# Menulis dataset ke file CSV\n",
        "with open('jobseeker.csv', 'w') as file:\n",
        "    file.write('id, nama, alamat, pendidikan, pengalaman, pengalaman_tahun, keterampilan, peminatan\\n')\n",
        "    for data in dataset:\n",
        "        file.write(','.join(str(item) for item in data))\n",
        "        file.write('\\n')\n",
        "\n",
        "# Mengunggah file ke Google Colab\n",
        "files.download('jobseeker.csv')\n"
      ],
      "metadata": {
        "id": "7jXP-4BQmxo4"
      },
      "execution_count": null,
      "outputs": []
    }
  ]
}