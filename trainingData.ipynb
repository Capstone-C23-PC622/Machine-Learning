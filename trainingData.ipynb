{
  "nbformat": 4,
  "nbformat_minor": 0,
  "metadata": {
    "colab": {
      "provenance": []
    },
    "kernelspec": {
      "name": "python3",
      "display_name": "Python 3"
    },
    "language_info": {
      "name": "python"
    }
  },
  "cells": [
    {
      "cell_type": "code",
      "execution_count": null,
      "metadata": {
        "id": "ou83_8pSYW7O"
      },
      "outputs": [],
      "source": [
        "import pandas as pd\n",
        "import numpy as np\n",
        "import tensorflow as tf\n",
        "#import matplotlib.pyplot as plt\n",
        "from tensorflow import keras\n",
        "from keras.layers import Input, Dense\n",
        "from keras.models import Model, Sequential\n",
        "from keras.utils import to_categorical\n",
        "from sklearn.model_selection import train_test_split"
      ]
    },
    {
      "cell_type": "code",
      "source": [
        "job = pd.read_csv('/content/job.csv')\n",
        "jobseeker = pd.read_csv('/content/jobseeker.csv')\n"
      ],
      "metadata": {
        "id": "Gd938bJNYdPa"
      },
      "execution_count": null,
      "outputs": []
    },
    {
      "cell_type": "code",
      "source": [
        "np.random.seed(0) \n",
        "\n",
        "num_samples = 102  \n",
        "\n",
        "# Generate random labels\n",
        "labels = np.random.randint(2, size=num_samples) \n",
        "\n",
        "print(labels)"
      ],
      "metadata": {
        "colab": {
          "base_uri": "https://localhost:8080/"
        },
        "id": "Sn7ILX5vY_Xu",
        "outputId": "e53b2c34-6f62-4d63-8fd7-9f0726ae58e1"
      },
      "execution_count": null,
      "outputs": [
        {
          "output_type": "stream",
          "name": "stdout",
          "text": [
            "[0 1 1 0 1 1 1 1 1 1 1 0 0 1 0 0 0 0 0 1 0 1 1 0 0 1 1 1 1 0 1 0 1 0 1 1 0\n",
            " 1 1 0 0 1 0 1 1 1 1 1 0 1 0 1 1 1 1 0 1 0 0 1 1 0 1 0 1 0 0 0 0 0 1 1 0 0\n",
            " 0 1 1 0 1 0 0 1 0 1 1 1 1 1 1 0 1 1 0 0 1 0 0 1 1 0 1 0]\n"
          ]
        }
      ]
    },
    {
      "cell_type": "code",
      "source": [
        "# mengconvert label ke DataFrame\n",
        "labels_df = pd.DataFrame(labels, columns=['label'])"
      ],
      "metadata": {
        "id": "RB1evKVTazr3"
      },
      "execution_count": null,
      "outputs": []
    },
    {
      "cell_type": "code",
      "source": [
        "# menyimpan DataFrame ke file CSV \n",
        "labels_df.to_csv('labels.csv', index=False)"
      ],
      "metadata": {
        "id": "Vczt4DEya5Fx"
      },
      "execution_count": null,
      "outputs": []
    },
    {
      "cell_type": "code",
      "source": [
        "# Membuat data contoh\n",
        "train_data = tf.random.normal(shape=(100, 10))  # Data pelatihan dengan bentuk (100, 10)\n",
        "train_labels = tf.random.uniform(shape=(100,), minval=0, maxval=5, dtype=tf.int32)  # Label pelatihan dengan bentuk (100,)\n",
        "\n",
        "# Menghitung jumlah kelas\n",
        "num_classes = len(tf.unique(train_labels)[0])\n",
        "\n",
        "# Mengubah label menjadi one-hot encoding\n",
        "train_labels = to_categorical(train_labels, num_classes=num_classes)"
      ],
      "metadata": {
        "id": "u1SnWr5DcjXz"
      },
      "execution_count": null,
      "outputs": []
    },
    {
      "cell_type": "code",
      "source": [
        "# Membuat model dan melakukan pelatihan\n",
        "model = tf.keras.Sequential([\n",
        "    tf.keras.layers.Dense(32, activation='relu', input_shape=(10,)),\n",
        "    tf.keras.layers.Dense(64, activation='relu'),\n",
        "    tf.keras.layers.Dense(num_classes, activation='softmax')\n",
        "])"
      ],
      "metadata": {
        "id": "1ooJSS7ocxm4"
      },
      "execution_count": null,
      "outputs": []
    },
    {
      "cell_type": "code",
      "source": [
        "#pelatihan model\n",
        "model.compile(optimizer='adam', loss='categorical_crossentropy', metrics=['accuracy'])\n",
        "model.fit(train_data, train_labels, epochs=10, batch_size=32)"
      ],
      "metadata": {
        "colab": {
          "base_uri": "https://localhost:8080/"
        },
        "id": "YQGfiJeHcyz6",
        "outputId": "cb6ec3c3-962c-43af-a909-2c4bad0d8a1b"
      },
      "execution_count": null,
      "outputs": [
        {
          "output_type": "stream",
          "name": "stdout",
          "text": [
            "Epoch 1/10\n",
            "4/4 [==============================] - 1s 5ms/step - loss: 1.6221 - accuracy: 0.2800\n",
            "Epoch 2/10\n",
            "4/4 [==============================] - 0s 4ms/step - loss: 1.5820 - accuracy: 0.3300\n",
            "Epoch 3/10\n",
            "4/4 [==============================] - 0s 5ms/step - loss: 1.5554 - accuracy: 0.3400\n",
            "Epoch 4/10\n",
            "4/4 [==============================] - 0s 4ms/step - loss: 1.5322 - accuracy: 0.3400\n",
            "Epoch 5/10\n",
            "4/4 [==============================] - 0s 4ms/step - loss: 1.5109 - accuracy: 0.3500\n",
            "Epoch 6/10\n",
            "4/4 [==============================] - 0s 4ms/step - loss: 1.4903 - accuracy: 0.3700\n",
            "Epoch 7/10\n",
            "4/4 [==============================] - 0s 5ms/step - loss: 1.4729 - accuracy: 0.3800\n",
            "Epoch 8/10\n",
            "4/4 [==============================] - 0s 4ms/step - loss: 1.4570 - accuracy: 0.3800\n",
            "Epoch 9/10\n",
            "4/4 [==============================] - 0s 4ms/step - loss: 1.4433 - accuracy: 0.3700\n",
            "Epoch 10/10\n",
            "4/4 [==============================] - 0s 4ms/step - loss: 1.4287 - accuracy: 0.3900\n"
          ]
        },
        {
          "output_type": "execute_result",
          "data": {
            "text/plain": [
              "<keras.callbacks.History at 0x7f9aa40af700>"
            ]
          },
          "metadata": {},
          "execution_count": 69
        }
      ]
    },
    {
      "cell_type": "code",
      "source": [
        "# Split data job dan jobseeker \n",
        "train_data_job, test_data_job, train_labels_job, test_labels_job = train_test_split(job, labels, test_size=0.2, random_state=42)\n",
        "train_data_jobseeker, test_data_jobseeker, train_labels_jobseeker, test_labels_jobseeker = train_test_split(jobseeker, labels, test_size=0.2, random_state=42)\n"
      ],
      "metadata": {
        "id": "xHV0zEbXehMl"
      },
      "execution_count": null,
      "outputs": []
    },
    {
      "cell_type": "code",
      "source": [
        "print('Train Data Shape:', train_data.shape)\n",
        "print('Test Data Shape:', test_data.shape)\n",
        "print('Train Labels Shape:', train_labels.shape)\n",
        "print('Test Labels Shape:', test_labels.shape)"
      ],
      "metadata": {
        "colab": {
          "base_uri": "https://localhost:8080/"
        },
        "id": "y8K8_hANklpQ",
        "outputId": "33611abf-92b0-413e-c329-ced13b676dde"
      },
      "execution_count": null,
      "outputs": [
        {
          "output_type": "stream",
          "name": "stdout",
          "text": [
            "Train Data Shape: (100, 10)\n",
            "Test Data Shape: (1, 3)\n",
            "Train Labels Shape: (100, 5)\n",
            "Test Labels Shape: (1,)\n"
          ]
        }
      ]
    },
    {
      "cell_type": "code",
      "source": [
        "# Pelatihan model\n",
        "model.compile(optimizer='adam', loss='categorical_crossentropy', metrics=['accuracy'])"
      ],
      "metadata": {
        "id": "9hYHwI3nfrW5"
      },
      "execution_count": null,
      "outputs": []
    },
    {
      "cell_type": "code",
      "source": [
        "#MASIH BELU BISSA EVALUASI\n",
        "# Evaluasi model dengan data uji dan label uji\n",
        "#test_loss, test_accuracy = model.evaluate([test_data_job, test_data_jobseeker], test_labels_job, verbose=2)\n"
      ],
      "metadata": {
        "id": "Sl1MvX4Pf4iV"
      },
      "execution_count": null,
      "outputs": []
    },
    {
      "cell_type": "code",
      "source": [
        "# Apply one-hot encoding to all categorical columns\n",
        "job = pd.get_dummies(job)\n",
        "jobseeker = pd.get_dummies(jobseeker)"
      ],
      "metadata": {
        "id": "HAfRwIaUYhu8"
      },
      "execution_count": null,
      "outputs": []
    },
    {
      "cell_type": "code",
      "source": [
        "# Convert the data to NumPy arrays\n",
        "train_data_job = job.values.astype('float32')\n",
        "train_data_jobseeker = jobseeker.values.astype('float32')"
      ],
      "metadata": {
        "id": "jFWVkTJ3YmVO"
      },
      "execution_count": null,
      "outputs": []
    },
    {
      "cell_type": "code",
      "source": [
        "# Mengkonversi dataframe ke tensor TensorFlow\n",
        "tensor_data = tf.data.Dataset.from_tensor_slices(dict(job))\n",
        "tensor_data = tf.data.Dataset.from_tensor_slices(dict(jobseeker))"
      ],
      "metadata": {
        "id": "yPlkQDdKYyvt"
      },
      "execution_count": null,
      "outputs": []
    },
    {
      "cell_type": "code",
      "source": [
        "# Contoh data pelatihan dan label\n",
        "train_data = np.array([\n",
        "    [1, 2, 3],\n",
        "    [4, 5, 6],\n",
        "    [7, 8, 9]\n",
        "])\n",
        "\n",
        "train_labels = np.array([0, 1, 1])"
      ],
      "metadata": {
        "id": "wdDqJflpY2PH"
      },
      "execution_count": null,
      "outputs": []
    },
    {
      "cell_type": "code",
      "source": [
        "# Define the input shapes based on your data\n",
        "input_dim_job = 50\n",
        "input_dim_jobseeker = 50\n",
        "\n",
        "# Define the inputs\n",
        "input_job = Input(shape=(input_dim_job,))\n",
        "input_jobseeker = Input(shape=(input_dim_jobseeker,))\n",
        "\n",
        "# Define the layers for job data\n",
        "x = Dense(32, activation='relu')(input_job)\n",
        "x = Dense(64, activation='relu')(x)\n",
        "output_job = Dense(num_classes, activation='softmax')(x)\n",
        "\n",
        "# Define the layers for jobseeker data\n",
        "y = Dense(32, activation='relu')(input_jobseeker)\n",
        "y = Dense(64, activation='relu')(y)\n",
        "output_jobseeker = Dense(num_classes, activation='softmax')(y)\n",
        "\n",
        "# Combine the output\n",
        "combined = keras.layers.concatenate([output_job, output_jobseeker])\n",
        "\n",
        "# Define the model\n",
        "model = Model(inputs=[input_job, input_jobseeker], outputs=combined)\n",
        "\n",
        "model.summary()\n"
      ],
      "metadata": {
        "colab": {
          "base_uri": "https://localhost:8080/"
        },
        "id": "asXoxJVtd9dI",
        "outputId": "7b49e178-8512-43b4-d041-af1c7ca882ba"
      },
      "execution_count": null,
      "outputs": [
        {
          "output_type": "stream",
          "name": "stdout",
          "text": [
            "Model: \"model_1\"\n",
            "__________________________________________________________________________________________________\n",
            " Layer (type)                   Output Shape         Param #     Connected to                     \n",
            "==================================================================================================\n",
            " input_3 (InputLayer)           [(None, 50)]         0           []                               \n",
            "                                                                                                  \n",
            " input_4 (InputLayer)           [(None, 50)]         0           []                               \n",
            "                                                                                                  \n",
            " dense_15 (Dense)               (None, 32)           1632        ['input_3[0][0]']                \n",
            "                                                                                                  \n",
            " dense_18 (Dense)               (None, 32)           1632        ['input_4[0][0]']                \n",
            "                                                                                                  \n",
            " dense_16 (Dense)               (None, 64)           2112        ['dense_15[0][0]']               \n",
            "                                                                                                  \n",
            " dense_19 (Dense)               (None, 64)           2112        ['dense_18[0][0]']               \n",
            "                                                                                                  \n",
            " dense_17 (Dense)               (None, 5)            325         ['dense_16[0][0]']               \n",
            "                                                                                                  \n",
            " dense_20 (Dense)               (None, 5)            325         ['dense_19[0][0]']               \n",
            "                                                                                                  \n",
            " concatenate_1 (Concatenate)    (None, 10)           0           ['dense_17[0][0]',               \n",
            "                                                                  'dense_20[0][0]']               \n",
            "                                                                                                  \n",
            "==================================================================================================\n",
            "Total params: 8,138\n",
            "Trainable params: 8,138\n",
            "Non-trainable params: 0\n",
            "__________________________________________________________________________________________________\n"
          ]
        }
      ]
    }
  ]
}
